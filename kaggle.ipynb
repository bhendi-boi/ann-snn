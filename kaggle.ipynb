{
 "cells": [
  {
   "cell_type": "markdown",
   "metadata": {},
   "source": [
    "## Parameters"
   ]
  },
  {
   "cell_type": "code",
   "execution_count": 17,
   "metadata": {},
   "outputs": [],
   "source": [
    "import torch.nn as nn\n",
    "\n",
    "record_number = 223\n",
    "network_structure = [2, 8, 8, 4]\n",
    "n_epochs = 45\n",
    "batch_size = 2\n",
    "act1 = nn.Tanh()\n",
    "act2 = nn.Sigmoid()\n",
    "\n",
    "sampling_strategy = {1: 2044, 2: 800, 3: 500, 4: 100}\n",
    "filename = f'{act1}-{act2}-{network_structure}--{batch_size}{record_number}.png'\n",
    "full_path = \"Tanh[2,8,8,4]-batch-10.png\""
   ]
  },
  {
   "cell_type": "markdown",
   "metadata": {},
   "source": [
    "## Importing Data"
   ]
  },
  {
   "cell_type": "code",
   "execution_count": 18,
   "metadata": {},
   "outputs": [
    {
     "name": "stdout",
     "output_type": "stream",
     "text": [
      "[101 106 108 109 112 114 115 116 118 119 122 124 201 203 205 207 208 209\n",
      " 215 220 223 230 100 103 105 111 113 117 121 123 200 202 210 212 213 214\n",
      " 219 221 222 228 231 232 233 234]\n"
     ]
    }
   ],
   "source": [
    "import pandas as pd\n",
    "import numpy as np\n",
    "import matplotlib.pyplot as plt\n",
    "\n",
    "df = pd.read_csv(\"kaggle.csv\")\n",
    "print(df[\"record\"].unique())\n",
    "df = df[df['record'] == record_number]"
   ]
  },
  {
   "cell_type": "code",
   "execution_count": 19,
   "metadata": {},
   "outputs": [],
   "source": [
    "df = df[[\"record\", \"type\", \"0_qrs_interval\", \"0_pre-RR\", \"0_post-RR\"]]\n",
    "df[\"0_rr_interval\"] = df[\"0_post-RR\"]\n",
    "df.dropna(inplace=True)"
   ]
  },
  {
   "cell_type": "code",
   "execution_count": 34,
   "metadata": {},
   "outputs": [
    {
     "data": {
      "text/plain": [
       "<Axes: >"
      ]
     },
     "execution_count": 34,
     "metadata": {},
     "output_type": "execute_result"
    },
    {
     "data": {
      "image/png": "[encoded data removed]",
      "text/plain": [
       "<Figure size 640x480 with 1 Axes>"
      ]
     },
     "metadata": {},
     "output_type": "display_data"
    }
   ],
   "source": [
    "df[\"type\"].hist()"
   ]
  },
  {
   "cell_type": "markdown",
   "metadata": {},
   "source": [
    "## Making outputs"
   ]
  },
  {
   "cell_type": "code",
   "execution_count": 21,
   "metadata": {},
   "outputs": [],
   "source": [
    "df['type'] = df[\"type\"].map({\n",
    "    \"N\": 1,\n",
    "    \"SVEB\": 2,\n",
    "    \"VEB\": 3,\n",
    "    \"F\": 4\n",
    "})"
   ]
  },
  {
   "cell_type": "markdown",
   "metadata": {},
   "source": [
    "## Making x, y"
   ]
  },
  {
   "cell_type": "code",
   "execution_count": 22,
   "metadata": {},
   "outputs": [],
   "source": [
    "X = df[[\"0_pre-RR\" ,\"0_qrs_interval\"]]\n",
    "y = df['type']"
   ]
  },
  {
   "cell_type": "code",
   "execution_count": 23,
   "metadata": {},
   "outputs": [],
   "source": [
    "from imblearn.over_sampling import SMOTE\n",
    "\n",
    "\n",
    "\n",
    "sm = SMOTE(random_state=0, sampling_strategy=sampling_strategy)\n",
    "X, y = sm.fit_resample(X=X, y=y)"
   ]
  },
  {
   "cell_type": "code",
   "execution_count": 24,
   "metadata": {},
   "outputs": [],
   "source": [
    "X = (X - X.mean()) / X.std()"
   ]
  },
  {
   "cell_type": "code",
   "execution_count": 25,
   "metadata": {},
   "outputs": [],
   "source": [
    "y = y.map(\n",
    "    {1: [1, 0, 0, 0], 2: [0, 1, 0, 0], 3: [0, 0, 1, 0], 4: [0, 0, 0, 1]}\n",
    ")"
   ]
  },
  {
   "cell_type": "code",
   "execution_count": 26,
   "metadata": {},
   "outputs": [],
   "source": [
    "y = np.array(y.tolist())"
   ]
  },
  {
   "cell_type": "markdown",
   "metadata": {},
   "source": [
    "## Splitting data for training and testing"
   ]
  },
  {
   "cell_type": "code",
   "execution_count": 27,
   "metadata": {},
   "outputs": [],
   "source": [
    "from sklearn.model_selection import train_test_split\n",
    "import torch\n",
    "\n",
    "X = torch.from_numpy(X.values).float()\n",
    "y = torch.from_numpy(y).float()\n",
    "\n",
    "X_train, X_test, y_train, y_test = train_test_split(\n",
    "    X, y, train_size=0.7, random_state=1\n",
    ")"
   ]
  },
  {
   "cell_type": "markdown",
   "metadata": {},
   "source": [
    "## Arrhythmia Classifier"
   ]
  },
  {
   "cell_type": "code",
   "execution_count": 28,
   "metadata": {},
   "outputs": [
    {
     "data": {
      "text/plain": [
       "Arrhythmia_classifier(\n",
       "  (hidden1): Linear(in_features=2, out_features=8, bias=True)\n",
       "  (act1): Tanh()\n",
       "  (hidden2): Linear(in_features=8, out_features=8, bias=True)\n",
       "  (act2): Sigmoid()\n",
       "  (output): Linear(in_features=8, out_features=4, bias=True)\n",
       ")"
      ]
     },
     "execution_count": 28,
     "metadata": {},
     "output_type": "execute_result"
    }
   ],
   "source": [
    "class Arrhythmia_classifier(nn.Module):\n",
    "    def __init__(self):\n",
    "        super().__init__()\n",
    "        self.hidden1 = nn.Linear(network_structure[0], network_structure[1])\n",
    "        self.act1 = act1\n",
    "        self.hidden2 = nn.Linear(network_structure[1],network_structure[2])\n",
    "        self.act2 = act2\n",
    "        self.output = nn.Linear(network_structure[2], network_structure[3])\n",
    "\n",
    "    def forward(self, x):\n",
    "        x = self.act1(self.hidden1(x))\n",
    "        x = self.act2(self.hidden2(x))\n",
    "        x = self.output(x)\n",
    "        return x\n",
    "\n",
    "\n",
    "model = Arrhythmia_classifier()\n",
    "model"
   ]
  },
  {
   "cell_type": "code",
   "execution_count": 29,
   "metadata": {},
   "outputs": [],
   "source": [
    "import torch.optim as optim\n",
    "import numpy as np\n",
    "import random\n",
    "\n",
    "loss_fn = nn.CrossEntropyLoss()\n",
    "optimizer = optim.RMSprop(model.parameters(), lr=0.01)\n",
    "random.seed(10)"
   ]
  },
  {
   "cell_type": "code",
   "execution_count": 30,
   "metadata": {},
   "outputs": [
    {
     "name": "stderr",
     "output_type": "stream",
     "text": [
      "Epoch 0:   6%|▌         | 70/1205 [00:00<00:07, 146.24batch/s, acc=0.5, loss=0.819]"
     ]
    },
    {
     "name": "stderr",
     "output_type": "stream",
     "text": [
      "Epoch 0: 100%|██████████| 1205/1205 [00:05<00:00, 233.21batch/s, acc=0.5, loss=1.32] \n"
     ]
    },
    {
     "name": "stdout",
     "output_type": "stream",
     "text": [
      "Epoch 0 validation: Cross-entropy=0.44803643226623535, Accuracy=0.8210831880569458\n"
     ]
    },
    {
     "name": "stderr",
     "output_type": "stream",
     "text": [
      "Epoch 1: 100%|██████████| 1205/1205 [00:04<00:00, 283.01batch/s, acc=0.5, loss=1.15] \n"
     ]
    },
    {
     "name": "stdout",
     "output_type": "stream",
     "text": [
      "Epoch 1 validation: Cross-entropy=0.39346954226493835, Accuracy=0.8588007688522339\n"
     ]
    },
    {
     "name": "stderr",
     "output_type": "stream",
     "text": [
      "Epoch 2: 100%|██████████| 1205/1205 [00:04<00:00, 292.67batch/s, acc=0.5, loss=1.15] \n"
     ]
    },
    {
     "name": "stdout",
     "output_type": "stream",
     "text": [
      "Epoch 2 validation: Cross-entropy=0.38706856966018677, Accuracy=0.8684719800949097\n"
     ]
    },
    {
     "name": "stderr",
     "output_type": "stream",
     "text": [
      "Epoch 3: 100%|██████████| 1205/1205 [00:04<00:00, 283.81batch/s, acc=0.5, loss=1.06] \n"
     ]
    },
    {
     "name": "stdout",
     "output_type": "stream",
     "text": [
      "Epoch 3 validation: Cross-entropy=0.3807404339313507, Accuracy=0.8675048351287842\n"
     ]
    },
    {
     "name": "stderr",
     "output_type": "stream",
     "text": [
      "Epoch 4: 100%|██████████| 1205/1205 [00:04<00:00, 272.56batch/s, acc=0.5, loss=0.902]\n"
     ]
    },
    {
     "name": "stdout",
     "output_type": "stream",
     "text": [
      "Epoch 4 validation: Cross-entropy=0.3776109218597412, Accuracy=0.8713732957839966\n"
     ]
    },
    {
     "name": "stderr",
     "output_type": "stream",
     "text": [
      "Epoch 5: 100%|██████████| 1205/1205 [00:04<00:00, 289.75batch/s, acc=0.5, loss=0.803]\n"
     ]
    },
    {
     "name": "stdout",
     "output_type": "stream",
     "text": [
      "Epoch 5 validation: Cross-entropy=0.37495511770248413, Accuracy=0.875241756439209\n"
     ]
    },
    {
     "name": "stderr",
     "output_type": "stream",
     "text": [
      "Epoch 6: 100%|██████████| 1205/1205 [00:04<00:00, 285.21batch/s, acc=0.5, loss=0.77] \n"
     ]
    },
    {
     "name": "stdout",
     "output_type": "stream",
     "text": [
      "Epoch 6 validation: Cross-entropy=0.37462276220321655, Accuracy=0.875241756439209\n"
     ]
    },
    {
     "name": "stderr",
     "output_type": "stream",
     "text": [
      "Epoch 7: 100%|██████████| 1205/1205 [00:04<00:00, 286.74batch/s, acc=0.5, loss=0.756]\n"
     ]
    },
    {
     "name": "stdout",
     "output_type": "stream",
     "text": [
      "Epoch 7 validation: Cross-entropy=0.37420788407325745, Accuracy=0.8733075261116028\n"
     ]
    },
    {
     "name": "stderr",
     "output_type": "stream",
     "text": [
      "Epoch 8: 100%|██████████| 1205/1205 [00:04<00:00, 294.46batch/s, acc=0.5, loss=0.751]\n"
     ]
    },
    {
     "name": "stdout",
     "output_type": "stream",
     "text": [
      "Epoch 8 validation: Cross-entropy=0.3739457130432129, Accuracy=0.8723404407501221\n"
     ]
    },
    {
     "name": "stderr",
     "output_type": "stream",
     "text": [
      "Epoch 9: 100%|██████████| 1205/1205 [00:04<00:00, 273.51batch/s, acc=0.5, loss=0.745]\n"
     ]
    },
    {
     "name": "stdout",
     "output_type": "stream",
     "text": [
      "Epoch 9 validation: Cross-entropy=0.3742409646511078, Accuracy=0.8723404407501221\n"
     ]
    },
    {
     "name": "stderr",
     "output_type": "stream",
     "text": [
      "Epoch 10: 100%|██████████| 1205/1205 [00:04<00:00, 295.27batch/s, acc=0.5, loss=0.738]\n"
     ]
    },
    {
     "name": "stdout",
     "output_type": "stream",
     "text": [
      "Epoch 10 validation: Cross-entropy=0.37498122453689575, Accuracy=0.8694390654563904\n"
     ]
    },
    {
     "name": "stderr",
     "output_type": "stream",
     "text": [
      "Epoch 11: 100%|██████████| 1205/1205 [00:04<00:00, 282.22batch/s, acc=0.5, loss=0.732]\n"
     ]
    },
    {
     "name": "stdout",
     "output_type": "stream",
     "text": [
      "Epoch 11 validation: Cross-entropy=0.37593895196914673, Accuracy=0.8675048351287842\n"
     ]
    },
    {
     "name": "stderr",
     "output_type": "stream",
     "text": [
      "Epoch 12: 100%|██████████| 1205/1205 [00:04<00:00, 245.36batch/s, acc=0.5, loss=0.729]\n"
     ]
    },
    {
     "name": "stdout",
     "output_type": "stream",
     "text": [
      "Epoch 12 validation: Cross-entropy=0.37700706720352173, Accuracy=0.8675048351287842\n"
     ]
    },
    {
     "name": "stderr",
     "output_type": "stream",
     "text": [
      "Epoch 13: 100%|██████████| 1205/1205 [00:04<00:00, 259.65batch/s, acc=0.5, loss=0.729]\n"
     ]
    },
    {
     "name": "stdout",
     "output_type": "stream",
     "text": [
      "Epoch 13 validation: Cross-entropy=0.3781644105911255, Accuracy=0.8665376901626587\n"
     ]
    },
    {
     "name": "stderr",
     "output_type": "stream",
     "text": [
      "Epoch 14: 100%|██████████| 1205/1205 [00:04<00:00, 280.08batch/s, acc=0.5, loss=0.731]\n"
     ]
    },
    {
     "name": "stdout",
     "output_type": "stream",
     "text": [
      "Epoch 14 validation: Cross-entropy=0.37926965951919556, Accuracy=0.8684719800949097\n"
     ]
    },
    {
     "name": "stderr",
     "output_type": "stream",
     "text": [
      "Epoch 15: 100%|██████████| 1205/1205 [00:04<00:00, 289.45batch/s, acc=0.5, loss=0.733]\n"
     ]
    },
    {
     "name": "stdout",
     "output_type": "stream",
     "text": [
      "Epoch 15 validation: Cross-entropy=0.37997883558273315, Accuracy=0.8684719800949097\n"
     ]
    },
    {
     "name": "stderr",
     "output_type": "stream",
     "text": [
      "Epoch 16: 100%|██████████| 1205/1205 [00:04<00:00, 256.35batch/s, acc=0.5, loss=0.733]\n"
     ]
    },
    {
     "name": "stdout",
     "output_type": "stream",
     "text": [
      "Epoch 16 validation: Cross-entropy=0.3801262080669403, Accuracy=0.8694390654563904\n"
     ]
    },
    {
     "name": "stderr",
     "output_type": "stream",
     "text": [
      "Epoch 17: 100%|██████████| 1205/1205 [00:04<00:00, 290.16batch/s, acc=0.5, loss=0.732]\n"
     ]
    },
    {
     "name": "stdout",
     "output_type": "stream",
     "text": [
      "Epoch 17 validation: Cross-entropy=0.38067659735679626, Accuracy=0.8713732957839966\n"
     ]
    },
    {
     "name": "stderr",
     "output_type": "stream",
     "text": [
      "Epoch 18: 100%|██████████| 1205/1205 [00:04<00:00, 296.06batch/s, acc=0.5, loss=0.728]\n"
     ]
    },
    {
     "name": "stdout",
     "output_type": "stream",
     "text": [
      "Epoch 18 validation: Cross-entropy=0.3829081058502197, Accuracy=0.8723404407501221\n"
     ]
    },
    {
     "name": "stderr",
     "output_type": "stream",
     "text": [
      "Epoch 19: 100%|██████████| 1205/1205 [00:04<00:00, 296.86batch/s, acc=0.5, loss=0.721]\n"
     ]
    },
    {
     "name": "stdout",
     "output_type": "stream",
     "text": [
      "Epoch 19 validation: Cross-entropy=0.3842596411705017, Accuracy=0.8723404407501221\n"
     ]
    },
    {
     "name": "stderr",
     "output_type": "stream",
     "text": [
      "Epoch 20: 100%|██████████| 1205/1205 [00:04<00:00, 286.44batch/s, acc=0.5, loss=0.712]\n"
     ]
    },
    {
     "name": "stdout",
     "output_type": "stream",
     "text": [
      "Epoch 20 validation: Cross-entropy=0.3849042057991028, Accuracy=0.8733075261116028\n"
     ]
    },
    {
     "name": "stderr",
     "output_type": "stream",
     "text": [
      "Epoch 21: 100%|██████████| 1205/1205 [00:04<00:00, 257.86batch/s, acc=0.5, loss=0.703]\n"
     ]
    },
    {
     "name": "stdout",
     "output_type": "stream",
     "text": [
      "Epoch 21 validation: Cross-entropy=0.3851054012775421, Accuracy=0.8742746710777283\n"
     ]
    },
    {
     "name": "stderr",
     "output_type": "stream",
     "text": [
      "Epoch 22: 100%|██████████| 1205/1205 [00:04<00:00, 287.65batch/s, acc=0.5, loss=0.697]\n"
     ]
    },
    {
     "name": "stdout",
     "output_type": "stream",
     "text": [
      "Epoch 22 validation: Cross-entropy=0.3869917690753937, Accuracy=0.8723404407501221\n"
     ]
    },
    {
     "name": "stderr",
     "output_type": "stream",
     "text": [
      "Epoch 23: 100%|██████████| 1205/1205 [00:04<00:00, 294.84batch/s, acc=0.5, loss=0.696]\n"
     ]
    },
    {
     "name": "stdout",
     "output_type": "stream",
     "text": [
      "Epoch 23 validation: Cross-entropy=0.38994523882865906, Accuracy=0.8704062104225159\n"
     ]
    },
    {
     "name": "stderr",
     "output_type": "stream",
     "text": [
      "Epoch 24: 100%|██████████| 1205/1205 [00:04<00:00, 295.95batch/s, acc=0.5, loss=0.694]\n"
     ]
    },
    {
     "name": "stdout",
     "output_type": "stream",
     "text": [
      "Epoch 24 validation: Cross-entropy=0.3920518159866333, Accuracy=0.8704062104225159\n"
     ]
    },
    {
     "name": "stderr",
     "output_type": "stream",
     "text": [
      "Epoch 25: 100%|██████████| 1205/1205 [00:04<00:00, 295.33batch/s, acc=0.5, loss=0.688]\n"
     ]
    },
    {
     "name": "stdout",
     "output_type": "stream",
     "text": [
      "Epoch 25 validation: Cross-entropy=0.3925177752971649, Accuracy=0.8704062104225159\n"
     ]
    },
    {
     "name": "stderr",
     "output_type": "stream",
     "text": [
      "Epoch 26: 100%|██████████| 1205/1205 [00:04<00:00, 287.48batch/s, acc=0.5, loss=0.68] \n"
     ]
    },
    {
     "name": "stdout",
     "output_type": "stream",
     "text": [
      "Epoch 26 validation: Cross-entropy=0.39364275336265564, Accuracy=0.8713732957839966\n"
     ]
    },
    {
     "name": "stderr",
     "output_type": "stream",
     "text": [
      "Epoch 27: 100%|██████████| 1205/1205 [00:03<00:00, 306.31batch/s, acc=0.5, loss=0.672]\n"
     ]
    },
    {
     "name": "stdout",
     "output_type": "stream",
     "text": [
      "Epoch 27 validation: Cross-entropy=0.39521798491477966, Accuracy=0.8723404407501221\n"
     ]
    },
    {
     "name": "stderr",
     "output_type": "stream",
     "text": [
      "Epoch 28: 100%|██████████| 1205/1205 [00:04<00:00, 284.26batch/s, acc=0.5, loss=0.665]\n"
     ]
    },
    {
     "name": "stdout",
     "output_type": "stream",
     "text": [
      "Epoch 28 validation: Cross-entropy=0.39673325419425964, Accuracy=0.8733075261116028\n"
     ]
    },
    {
     "name": "stderr",
     "output_type": "stream",
     "text": [
      "Epoch 29: 100%|██████████| 1205/1205 [00:04<00:00, 291.04batch/s, acc=0.5, loss=0.659]\n"
     ]
    },
    {
     "name": "stdout",
     "output_type": "stream",
     "text": [
      "Epoch 29 validation: Cross-entropy=0.39809030294418335, Accuracy=0.875241756439209\n"
     ]
    },
    {
     "name": "stderr",
     "output_type": "stream",
     "text": [
      "Epoch 30: 100%|██████████| 1205/1205 [00:04<00:00, 296.80batch/s, acc=0.5, loss=0.653]\n"
     ]
    },
    {
     "name": "stdout",
     "output_type": "stream",
     "text": [
      "Epoch 30 validation: Cross-entropy=0.39925771951675415, Accuracy=0.875241756439209\n"
     ]
    },
    {
     "name": "stderr",
     "output_type": "stream",
     "text": [
      "Epoch 31: 100%|██████████| 1205/1205 [00:04<00:00, 290.62batch/s, acc=0.5, loss=0.647]\n"
     ]
    },
    {
     "name": "stdout",
     "output_type": "stream",
     "text": [
      "Epoch 31 validation: Cross-entropy=0.40011295676231384, Accuracy=0.8742746710777283\n"
     ]
    },
    {
     "name": "stderr",
     "output_type": "stream",
     "text": [
      "Epoch 32: 100%|██████████| 1205/1205 [00:04<00:00, 299.93batch/s, acc=0.5, loss=0.641]\n"
     ]
    },
    {
     "name": "stdout",
     "output_type": "stream",
     "text": [
      "Epoch 32 validation: Cross-entropy=0.4005262553691864, Accuracy=0.875241756439209\n"
     ]
    },
    {
     "name": "stderr",
     "output_type": "stream",
     "text": [
      "Epoch 33: 100%|██████████| 1205/1205 [00:04<00:00, 291.52batch/s, acc=0.5, loss=0.635]\n"
     ]
    },
    {
     "name": "stdout",
     "output_type": "stream",
     "text": [
      "Epoch 33 validation: Cross-entropy=0.400633305311203, Accuracy=0.875241756439209\n"
     ]
    },
    {
     "name": "stderr",
     "output_type": "stream",
     "text": [
      "Epoch 34: 100%|██████████| 1205/1205 [00:04<00:00, 266.59batch/s, acc=0.5, loss=0.629]\n"
     ]
    },
    {
     "name": "stdout",
     "output_type": "stream",
     "text": [
      "Epoch 34 validation: Cross-entropy=0.4006587266921997, Accuracy=0.8771759867668152\n"
     ]
    },
    {
     "name": "stderr",
     "output_type": "stream",
     "text": [
      "Epoch 35: 100%|██████████| 1205/1205 [00:04<00:00, 247.01batch/s, acc=0.5, loss=0.621]\n"
     ]
    },
    {
     "name": "stdout",
     "output_type": "stream",
     "text": [
      "Epoch 35 validation: Cross-entropy=0.40063443779945374, Accuracy=0.8771759867668152\n"
     ]
    },
    {
     "name": "stderr",
     "output_type": "stream",
     "text": [
      "Epoch 36: 100%|██████████| 1205/1205 [00:04<00:00, 257.68batch/s, acc=0.5, loss=0.612]\n"
     ]
    },
    {
     "name": "stdout",
     "output_type": "stream",
     "text": [
      "Epoch 36 validation: Cross-entropy=0.40099436044692993, Accuracy=0.8791102766990662\n"
     ]
    },
    {
     "name": "stderr",
     "output_type": "stream",
     "text": [
      "Epoch 37: 100%|██████████| 1205/1205 [00:04<00:00, 294.10batch/s, acc=0.5, loss=0.604]\n"
     ]
    },
    {
     "name": "stdout",
     "output_type": "stream",
     "text": [
      "Epoch 37 validation: Cross-entropy=0.4019492566585541, Accuracy=0.8791102766990662\n"
     ]
    },
    {
     "name": "stderr",
     "output_type": "stream",
     "text": [
      "Epoch 38: 100%|██████████| 1205/1205 [00:04<00:00, 255.66batch/s, acc=0.5, loss=0.597]\n"
     ]
    },
    {
     "name": "stdout",
     "output_type": "stream",
     "text": [
      "Epoch 38 validation: Cross-entropy=0.40299752354621887, Accuracy=0.8781431317329407\n"
     ]
    },
    {
     "name": "stderr",
     "output_type": "stream",
     "text": [
      "Epoch 39: 100%|██████████| 1205/1205 [00:04<00:00, 283.79batch/s, acc=0.5, loss=0.59] \n"
     ]
    },
    {
     "name": "stdout",
     "output_type": "stream",
     "text": [
      "Epoch 39 validation: Cross-entropy=0.40368813276290894, Accuracy=0.8781431317329407\n"
     ]
    },
    {
     "name": "stderr",
     "output_type": "stream",
     "text": [
      "Epoch 40: 100%|██████████| 1205/1205 [00:04<00:00, 294.78batch/s, acc=0.5, loss=0.585]\n"
     ]
    },
    {
     "name": "stdout",
     "output_type": "stream",
     "text": [
      "Epoch 40 validation: Cross-entropy=0.40392524003982544, Accuracy=0.8771759867668152\n"
     ]
    },
    {
     "name": "stderr",
     "output_type": "stream",
     "text": [
      "Epoch 41: 100%|██████████| 1205/1205 [00:04<00:00, 283.13batch/s, acc=0.5, loss=0.58] \n"
     ]
    },
    {
     "name": "stdout",
     "output_type": "stream",
     "text": [
      "Epoch 41 validation: Cross-entropy=0.40415313839912415, Accuracy=0.8771759867668152\n"
     ]
    },
    {
     "name": "stderr",
     "output_type": "stream",
     "text": [
      "Epoch 42: 100%|██████████| 1205/1205 [00:04<00:00, 272.62batch/s, acc=0.5, loss=0.574]\n"
     ]
    },
    {
     "name": "stdout",
     "output_type": "stream",
     "text": [
      "Epoch 42 validation: Cross-entropy=0.40453028678894043, Accuracy=0.8771759867668152\n"
     ]
    },
    {
     "name": "stderr",
     "output_type": "stream",
     "text": [
      "Epoch 43: 100%|██████████| 1205/1205 [00:04<00:00, 273.50batch/s, acc=0.5, loss=0.568]\n"
     ]
    },
    {
     "name": "stdout",
     "output_type": "stream",
     "text": [
      "Epoch 43 validation: Cross-entropy=0.40481510758399963, Accuracy=0.8771759867668152\n"
     ]
    },
    {
     "name": "stderr",
     "output_type": "stream",
     "text": [
      "Epoch 44: 100%|██████████| 1205/1205 [00:04<00:00, 285.60batch/s, acc=0.5, loss=0.56] "
     ]
    },
    {
     "name": "stdout",
     "output_type": "stream",
     "text": [
      "Epoch 44 validation: Cross-entropy=0.404987633228302, Accuracy=0.8781431317329407\n"
     ]
    },
    {
     "name": "stderr",
     "output_type": "stream",
     "text": [
      "\n"
     ]
    },
    {
     "data": {
      "text/plain": [
       "<All keys matched successfully>"
      ]
     },
     "execution_count": 30,
     "metadata": {},
     "output_type": "execute_result"
    }
   ],
   "source": [
    "import tqdm\n",
    "import copy\n",
    "\n",
    "\n",
    "batches_per_epoch = len(X_train) // batch_size\n",
    "\n",
    "best_acc = -np.inf  # init to negative infinity\n",
    "best_weights = None\n",
    "train_loss_hist = []\n",
    "train_acc_hist = []\n",
    "test_loss_hist = []\n",
    "test_acc_hist = []\n",
    "\n",
    "for epoch in range(n_epochs):\n",
    "    epoch_loss = []\n",
    "    epoch_acc = []\n",
    "    # set model in training mode and run through each batch\n",
    "    model.train()\n",
    "    with tqdm.trange(batches_per_epoch, unit=\"batch\", mininterval=0) as bar:\n",
    "        bar.set_description(f\"Epoch {epoch}\")\n",
    "        for i in bar:\n",
    "            # take a batch\n",
    "            start = i * batch_size\n",
    "            X_batch = X_train[start : start + batch_size]\n",
    "            y_batch = y_train[start : start + batch_size]\n",
    "            # forward pass\n",
    "            y_pred = model(X_batch)\n",
    "            loss = loss_fn(y_pred, y_batch)\n",
    "            # backward pass\n",
    "            optimizer.zero_grad()\n",
    "            loss.backward()\n",
    "            # update weights\n",
    "            optimizer.step()\n",
    "            # compute and store metrics\n",
    "            acc = (torch.argmax(y_pred, 1) == torch.argmax(y_batch, 1)).float().mean()\n",
    "            epoch_loss.append(float(loss))\n",
    "            epoch_acc.append(float(acc))\n",
    "            bar.set_postfix(loss=float(loss), acc=float(acc))\n",
    "    # set model in evaluation mode and run through the test set\n",
    "    model.eval()\n",
    "    y_pred = model(X_test)\n",
    "    ce = loss_fn(y_pred, y_test)\n",
    "    acc = (torch.argmax(y_pred, 1) == torch.argmax(y_test, 1)).float().mean()\n",
    "    ce = float(ce)\n",
    "    acc = float(acc)\n",
    "    train_loss_hist.append(np.mean(epoch_loss))\n",
    "    train_acc_hist.append(np.mean(epoch_acc))\n",
    "    test_loss_hist.append(ce)\n",
    "    test_acc_hist.append(acc)\n",
    "    if acc > best_acc:\n",
    "        best_acc = acc\n",
    "        best_weights = copy.deepcopy(model.state_dict())\n",
    "    print(f\"Epoch {epoch} validation: Cross-entropy={ce}, Accuracy={acc}\")\n",
    "\n",
    "model.load_state_dict(best_weights)"
   ]
  },
  {
   "cell_type": "code",
   "execution_count": 31,
   "metadata": {},
   "outputs": [
    {
     "data": {
      "text/plain": [
       "OrderedDict([('hidden1.weight',\n",
       "              tensor([[-0.2554, -2.5126],\n",
       "                      [-3.9421,  3.4729],\n",
       "                      [ 6.8346, -0.3878],\n",
       "                      [ 2.1663, -1.7082],\n",
       "                      [ 0.9180, -0.1265],\n",
       "                      [-4.7178, -1.7441],\n",
       "                      [ 0.3332,  5.1868],\n",
       "                      [-1.0795, -1.0924]])),\n",
       "             ('hidden1.bias',\n",
       "              tensor([ 2.9786,  0.2252, -1.8692,  0.6630, -2.3260, -0.2512,  0.2799, -1.5562])),\n",
       "             ('hidden2.weight',\n",
       "              tensor([[-1.2352, -2.8622,  3.4014,  0.2752,  3.4459,  1.7549, -3.1437, -3.4127],\n",
       "                      [-1.3879,  3.3676, -0.5684, -1.5365,  0.4492, -3.2727,  1.4302,  3.1808],\n",
       "                      [ 2.6378, -1.7342, -2.3064,  2.5429, -0.5219,  2.3141,  3.3010, -1.8963],\n",
       "                      [-2.8337, -2.7868,  1.5712,  1.6171,  1.7040, -2.6955, -0.8881,  6.1641],\n",
       "                      [ 0.9808, -1.4985, -1.9875,  2.9162, -1.0264,  1.6072, -0.7483, -5.1393],\n",
       "                      [ 1.1891, -4.6599, -0.2250,  4.1997,  0.6757, -3.2812,  0.4340, -3.7527],\n",
       "                      [-1.3852,  4.6846, -0.0880, -4.9042, -0.9010,  2.7496, -3.9583,  5.2641],\n",
       "                      [-3.5977,  0.8465,  0.3048,  0.4240,  0.9080, -5.0634,  2.8589,  0.3873]])),\n",
       "             ('hidden2.bias',\n",
       "              tensor([-2.7224, -2.0316, -1.1425, -2.0158,  0.1463, -2.9887,  2.1693, -1.4967])),\n",
       "             ('output.weight',\n",
       "              tensor([[  1.3910,   0.0865,  -0.0786,  -8.5181,  -3.0189,  -0.0252,  -3.6077,\n",
       "                        -1.2882],\n",
       "                      [ -4.9023,  -9.4411,  -0.8567, -11.8999,  -0.6896,  -1.2985,  -0.5282,\n",
       "                        -9.2302],\n",
       "                      [ -0.3867,  -1.5117,  -3.3531,   3.2974,  -0.9974,  -7.6262,  -1.7382,\n",
       "                         0.7888],\n",
       "                      [-20.1950,  -5.6248,   0.1096,   1.4634,   0.0969,  -3.7613, -10.1284,\n",
       "                        -5.5756]])),\n",
       "             ('output.bias', tensor([-0.8696, -1.1139,  0.4105, -0.2165]))])"
      ]
     },
     "execution_count": 31,
     "metadata": {},
     "output_type": "execute_result"
    }
   ],
   "source": [
    "model.state_dict()"
   ]
  },
  {
   "cell_type": "markdown",
   "metadata": {},
   "source": [
    "## Plotting Cross entropy and accuracy"
   ]
  },
  {
   "cell_type": "code",
   "execution_count": 32,
   "metadata": {},
   "outputs": [
    {
     "data": {
      "image/png": "[encoded data removed]",
      "text/plain": [
       "<Figure size 640x480 with 1 Axes>"
      ]
     },
     "metadata": {},
     "output_type": "display_data"
    },
    {
     "data": {
      "image/png": "[encoded data removed]",
      "text/plain": [
       "<Figure size 640x480 with 1 Axes>"
      ]
     },
     "metadata": {},
     "output_type": "display_data"
    }
   ],
   "source": [
    "plt.plot(train_loss_hist, label=\"train\")\n",
    "plt.plot(test_loss_hist, label=\"test\")\n",
    "plt.xlabel(\"epochs\")\n",
    "plt.ylabel(\"cross entropy\")\n",
    "plt.legend()\n",
    "plt.show()\n",
    "\n",
    "plt.plot(train_acc_hist, label=\"train\")\n",
    "plt.plot(test_acc_hist, label=\"test\")\n",
    "plt.xlabel(\"epochs\")\n",
    "plt.ylabel(\"accuracy\")\n",
    "plt.legend()\n",
    "plt.savefig(full_path)\n",
    "plt.show()"
   ]
  }
 ],
 "metadata": {
  "kernelspec": {
   "display_name": "Python 3",
   "language": "python",
   "name": "python3"
  },
  "language_info": {
   "codemirror_mode": {
    "name": "ipython",
    "version": 3
   },
   "file_extension": ".py",
   "mimetype": "text/x-python",
   "name": "python",
   "nbconvert_exporter": "python",
   "pygments_lexer": "ipython3",
   "version": "3.11.0"
  }
 },
 "nbformat": 4,
 "nbformat_minor": 2
}
