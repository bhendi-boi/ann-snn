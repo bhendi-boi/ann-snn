{
 "cells": [
  {
   "cell_type": "markdown",
   "metadata": {},
   "source": [
    "## Parameters"
   ]
  },
  {
   "cell_type": "code",
   "execution_count": 73,
   "metadata": {},
   "outputs": [],
   "source": [
    "import torch.nn as nn\n",
    "\n",
    "record_number = 223\n",
    "network_structure = [2, 7, 5, 4]\n",
    "n_epochs = 45\n",
    "batch_size = 2\n",
    "act1 = nn.ReLU()\n",
    "act2 = nn.Sigmoid()\n",
    "filename = f'{act1}-{act2}-{network_structure}--{batch_size}{record_number}.png'"
   ]
  },
  {
   "cell_type": "markdown",
   "metadata": {},
   "source": [
    "## Importing Data"
   ]
  },
  {
   "cell_type": "code",
   "execution_count": 74,
   "metadata": {},
   "outputs": [
    {
     "name": "stdout",
     "output_type": "stream",
     "text": [
      "[101 106 108 109 112 114 115 116 118 119 122 124 201 203 205 207 208 209\n",
      " 215 220 223 230 100 103 105 111 113 117 121 123 200 202 210 212 213 214\n",
      " 219 221 222 228 231 232 233 234]\n"
     ]
    }
   ],
   "source": [
    "import pandas as pd\n",
    "import numpy as np\n",
    "import matplotlib.pyplot as plt\n",
    "\n",
    "df = pd.read_csv(\"kaggle.csv\")\n",
    "print(df[\"record\"].unique())\n",
    "df = df[df['record'] == record_number]"
   ]
  },
  {
   "cell_type": "code",
   "execution_count": 75,
   "metadata": {},
   "outputs": [],
   "source": [
    "df = df[[\"record\", \"type\", \"0_qrs_interval\", \"0_pre-RR\", \"0_post-RR\"]]\n",
    "df[\"0_rr_interval\"] = df[\"0_post-RR\"]\n",
    "df.dropna(inplace=True)"
   ]
  },
  {
   "cell_type": "code",
   "execution_count": 76,
   "metadata": {},
   "outputs": [
    {
     "data": {
      "text/plain": [
       "<Axes: >"
      ]
     },
     "execution_count": 76,
     "metadata": {},
     "output_type": "execute_result"
    },
    {
     "data": {
      "image/png": "[encoded data removed]",
      "text/plain": [
       "<Figure size 640x480 with 1 Axes>"
      ]
     },
     "metadata": {},
     "output_type": "display_data"
    }
   ],
   "source": [
    "df['type'].hist()"
   ]
  },
  {
   "cell_type": "markdown",
   "metadata": {},
   "source": [
    "## Making outputs"
   ]
  },
  {
   "cell_type": "code",
   "execution_count": 77,
   "metadata": {},
   "outputs": [],
   "source": [
    "df['type'] = df[\"type\"].map({\n",
    "    \"N\": [1, 0, 0, 0],\n",
    "    \"SVEB\": [ 0, 1, 0, 0],\n",
    "    \"VEB\": [0, 0, 1, 0],\n",
    "    \"F\": [0, 0, 0, 1]\n",
    "})"
   ]
  },
  {
   "cell_type": "markdown",
   "metadata": {},
   "source": [
    "## Making x, y"
   ]
  },
  {
   "cell_type": "code",
   "execution_count": 78,
   "metadata": {},
   "outputs": [],
   "source": [
    "X = df[[\"0_pre-RR\" ,\"0_qrs_interval\"]]\n",
    "y = np.array(df[\"type\"].tolist())"
   ]
  },
  {
   "cell_type": "code",
   "execution_count": 79,
   "metadata": {},
   "outputs": [],
   "source": [
    "from imblearn.over_sampling import SMOTE\n",
    "\n",
    "sm = SMOTE(random_state=0)\n",
    "X, y = sm.fit_resample(X=X, y=y)"
   ]
  },
  {
   "cell_type": "code",
   "execution_count": 80,
   "metadata": {},
   "outputs": [],
   "source": [
    "X = (X - X.mean()) / X.std()"
   ]
  },
  {
   "cell_type": "markdown",
   "metadata": {},
   "source": [
    "## Splitting data for training and testing"
   ]
  },
  {
   "cell_type": "code",
   "execution_count": 81,
   "metadata": {},
   "outputs": [],
   "source": [
    "from sklearn.model_selection import train_test_split\n",
    "import torch\n",
    "\n",
    "X = torch.from_numpy(X.values).float()\n",
    "y = torch.from_numpy(y).float()\n",
    "\n",
    "X_train, X_test, y_train, y_test = train_test_split(\n",
    "    X, y, train_size=0.7, random_state=1\n",
    ")"
   ]
  },
  {
   "cell_type": "markdown",
   "metadata": {},
   "source": [
    "## Arrhythmia Classifier"
   ]
  },
  {
   "cell_type": "code",
   "execution_count": 82,
   "metadata": {},
   "outputs": [
    {
     "data": {
      "text/plain": [
       "Arrhythmia_classifier(\n",
       "  (hidden1): Linear(in_features=2, out_features=7, bias=True)\n",
       "  (act1): ReLU()\n",
       "  (hidden2): Linear(in_features=7, out_features=5, bias=True)\n",
       "  (act2): Sigmoid()\n",
       "  (output): Linear(in_features=5, out_features=4, bias=True)\n",
       ")"
      ]
     },
     "execution_count": 82,
     "metadata": {},
     "output_type": "execute_result"
    }
   ],
   "source": [
    "class Arrhythmia_classifier(nn.Module):\n",
    "    def __init__(self):\n",
    "        super().__init__()\n",
    "        self.hidden1 = nn.Linear(network_structure[0], network_structure[1])\n",
    "        self.act1 = act1\n",
    "        self.hidden2 = nn.Linear(network_structure[1],network_structure[2])\n",
    "        self.act2 = act2\n",
    "        self.output = nn.Linear(network_structure[2], network_structure[3])\n",
    "\n",
    "    def forward(self, x):\n",
    "        x = self.act1(self.hidden1(x))\n",
    "        x = self.act2(self.hidden2(x))\n",
    "        x = self.output(x)\n",
    "        return x\n",
    "\n",
    "\n",
    "model = Arrhythmia_classifier()\n",
    "model"
   ]
  },
  {
   "cell_type": "code",
   "execution_count": 83,
   "metadata": {},
   "outputs": [],
   "source": [
    "import torch.optim as optim\n",
    "import numpy as np\n",
    "import random\n",
    "\n",
    "loss_fn = nn.CrossEntropyLoss()\n",
    "optimizer = optim.Adam(model.parameters(), lr=0.01)\n",
    "random.seed(10)"
   ]
  },
  {
   "cell_type": "code",
   "execution_count": 84,
   "metadata": {},
   "outputs": [
    {
     "name": "stderr",
     "output_type": "stream",
     "text": [
      "Epoch 0: 100%|██████████| 2861/2861 [00:06<00:00, 434.65batch/s, acc=0, loss=1.38]   \n"
     ]
    },
    {
     "name": "stdout",
     "output_type": "stream",
     "text": [
      "Epoch 0 validation: Cross-entropy=0.6995819211006165, Accuracy=0.7089278697967529\n"
     ]
    },
    {
     "name": "stderr",
     "output_type": "stream",
     "text": [
      "Epoch 1: 100%|██████████| 2861/2861 [00:08<00:00, 344.45batch/s, acc=0, loss=1.56]   \n"
     ]
    },
    {
     "name": "stdout",
     "output_type": "stream",
     "text": [
      "Epoch 1 validation: Cross-entropy=0.6359966993331909, Accuracy=0.7329800128936768\n"
     ]
    },
    {
     "name": "stderr",
     "output_type": "stream",
     "text": [
      "Epoch 2: 100%|██████████| 2861/2861 [00:08<00:00, 347.23batch/s, acc=0, loss=1.34]   \n"
     ]
    },
    {
     "name": "stdout",
     "output_type": "stream",
     "text": [
      "Epoch 2 validation: Cross-entropy=0.6203511357307434, Accuracy=0.7476559281349182\n"
     ]
    },
    {
     "name": "stderr",
     "output_type": "stream",
     "text": [
      "Epoch 3: 100%|██████████| 2861/2861 [00:07<00:00, 363.54batch/s, acc=0, loss=1.33]   \n"
     ]
    },
    {
     "name": "stdout",
     "output_type": "stream",
     "text": [
      "Epoch 3 validation: Cross-entropy=0.6075202226638794, Accuracy=0.7448022961616516\n"
     ]
    },
    {
     "name": "stderr",
     "output_type": "stream",
     "text": [
      "Epoch 4: 100%|██████████| 2861/2861 [00:08<00:00, 354.62batch/s, acc=0, loss=1.21]   \n"
     ]
    },
    {
     "name": "stdout",
     "output_type": "stream",
     "text": [
      "Epoch 4 validation: Cross-entropy=0.6007974147796631, Accuracy=0.736241340637207\n"
     ]
    },
    {
     "name": "stderr",
     "output_type": "stream",
     "text": [
      "Epoch 5: 100%|██████████| 2861/2861 [00:08<00:00, 347.73batch/s, acc=0, loss=1.19]   \n"
     ]
    },
    {
     "name": "stdout",
     "output_type": "stream",
     "text": [
      "Epoch 5 validation: Cross-entropy=0.5913324952125549, Accuracy=0.7370566725730896\n"
     ]
    },
    {
     "name": "stderr",
     "output_type": "stream",
     "text": [
      "Epoch 6: 100%|██████████| 2861/2861 [00:08<00:00, 318.62batch/s, acc=0, loss=1.31]   \n"
     ]
    },
    {
     "name": "stdout",
     "output_type": "stream",
     "text": [
      "Epoch 6 validation: Cross-entropy=0.57832932472229, Accuracy=0.7386873364448547\n"
     ]
    },
    {
     "name": "stderr",
     "output_type": "stream",
     "text": [
      "Epoch 7: 100%|██████████| 2861/2861 [00:10<00:00, 280.02batch/s, acc=0, loss=1.36]   \n"
     ]
    },
    {
     "name": "stdout",
     "output_type": "stream",
     "text": [
      "Epoch 7 validation: Cross-entropy=0.5728444457054138, Accuracy=0.7427639365196228\n"
     ]
    },
    {
     "name": "stderr",
     "output_type": "stream",
     "text": [
      "Epoch 8: 100%|██████████| 2861/2861 [00:08<00:00, 325.54batch/s, acc=0, loss=1.38]   \n"
     ]
    },
    {
     "name": "stdout",
     "output_type": "stream",
     "text": [
      "Epoch 8 validation: Cross-entropy=0.5723507404327393, Accuracy=0.7427639365196228\n"
     ]
    },
    {
     "name": "stderr",
     "output_type": "stream",
     "text": [
      "Epoch 9: 100%|██████████| 2861/2861 [00:09<00:00, 308.15batch/s, acc=0, loss=1.46]   \n"
     ]
    },
    {
     "name": "stdout",
     "output_type": "stream",
     "text": [
      "Epoch 9 validation: Cross-entropy=0.5730675458908081, Accuracy=0.7395026683807373\n"
     ]
    },
    {
     "name": "stderr",
     "output_type": "stream",
     "text": [
      "Epoch 10: 100%|██████████| 2861/2861 [00:09<00:00, 297.51batch/s, acc=0, loss=1.33]   \n"
     ]
    },
    {
     "name": "stdout",
     "output_type": "stream",
     "text": [
      "Epoch 10 validation: Cross-entropy=0.5703016519546509, Accuracy=0.7431716322898865\n"
     ]
    },
    {
     "name": "stderr",
     "output_type": "stream",
     "text": [
      "Epoch 11: 100%|██████████| 2861/2861 [00:08<00:00, 338.92batch/s, acc=0, loss=1.29]   \n"
     ]
    },
    {
     "name": "stdout",
     "output_type": "stream",
     "text": [
      "Epoch 11 validation: Cross-entropy=0.566584587097168, Accuracy=0.7492865920066833\n"
     ]
    },
    {
     "name": "stderr",
     "output_type": "stream",
     "text": [
      "Epoch 12: 100%|██████████| 2861/2861 [00:09<00:00, 306.96batch/s, acc=0, loss=1.61]   \n"
     ]
    },
    {
     "name": "stdout",
     "output_type": "stream",
     "text": [
      "Epoch 12 validation: Cross-entropy=0.5517877340316772, Accuracy=0.7627394795417786\n"
     ]
    },
    {
     "name": "stderr",
     "output_type": "stream",
     "text": [
      "Epoch 13: 100%|██████████| 2861/2861 [00:10<00:00, 279.73batch/s, acc=0, loss=1.66]   \n"
     ]
    },
    {
     "name": "stdout",
     "output_type": "stream",
     "text": [
      "Epoch 13 validation: Cross-entropy=0.5517423152923584, Accuracy=0.7594782114028931\n"
     ]
    },
    {
     "name": "stderr",
     "output_type": "stream",
     "text": [
      "Epoch 14: 100%|██████████| 2861/2861 [00:08<00:00, 357.19batch/s, acc=0, loss=1.66]   \n"
     ]
    },
    {
     "name": "stdout",
     "output_type": "stream",
     "text": [
      "Epoch 14 validation: Cross-entropy=0.5420386791229248, Accuracy=0.7558091878890991\n"
     ]
    },
    {
     "name": "stderr",
     "output_type": "stream",
     "text": [
      "Epoch 15: 100%|██████████| 2861/2861 [00:08<00:00, 324.10batch/s, acc=0, loss=1.61]   \n"
     ]
    },
    {
     "name": "stdout",
     "output_type": "stream",
     "text": [
      "Epoch 15 validation: Cross-entropy=0.5342740416526794, Accuracy=0.7492865920066833\n"
     ]
    },
    {
     "name": "stderr",
     "output_type": "stream",
     "text": [
      "Epoch 16: 100%|██████████| 2861/2861 [00:09<00:00, 308.13batch/s, acc=0, loss=1.63]   \n"
     ]
    },
    {
     "name": "stdout",
     "output_type": "stream",
     "text": [
      "Epoch 16 validation: Cross-entropy=0.5261813402175903, Accuracy=0.7529555559158325\n"
     ]
    },
    {
     "name": "stderr",
     "output_type": "stream",
     "text": [
      "Epoch 17: 100%|██████████| 2861/2861 [00:08<00:00, 335.98batch/s, acc=0, loss=1.63]   \n"
     ]
    },
    {
     "name": "stdout",
     "output_type": "stream",
     "text": [
      "Epoch 17 validation: Cross-entropy=0.5134624242782593, Accuracy=0.75214022397995\n"
     ]
    },
    {
     "name": "stderr",
     "output_type": "stream",
     "text": [
      "Epoch 18: 100%|██████████| 2861/2861 [00:08<00:00, 339.19batch/s, acc=0, loss=1.6]    \n"
     ]
    },
    {
     "name": "stdout",
     "output_type": "stream",
     "text": [
      "Epoch 18 validation: Cross-entropy=0.5107867121696472, Accuracy=0.7533632516860962\n"
     ]
    },
    {
     "name": "stderr",
     "output_type": "stream",
     "text": [
      "Epoch 19: 100%|██████████| 2861/2861 [00:08<00:00, 339.08batch/s, acc=0, loss=1.59]   \n"
     ]
    },
    {
     "name": "stdout",
     "output_type": "stream",
     "text": [
      "Epoch 19 validation: Cross-entropy=0.5105497241020203, Accuracy=0.7541785836219788\n"
     ]
    },
    {
     "name": "stderr",
     "output_type": "stream",
     "text": [
      "Epoch 20: 100%|██████████| 2861/2861 [00:08<00:00, 338.66batch/s, acc=0, loss=1.59]   \n"
     ]
    },
    {
     "name": "stdout",
     "output_type": "stream",
     "text": [
      "Epoch 20 validation: Cross-entropy=0.5066549777984619, Accuracy=0.7513248920440674\n"
     ]
    },
    {
     "name": "stderr",
     "output_type": "stream",
     "text": [
      "Epoch 21: 100%|██████████| 2861/2861 [00:08<00:00, 328.88batch/s, acc=0, loss=1.59]   \n"
     ]
    },
    {
     "name": "stdout",
     "output_type": "stream",
     "text": [
      "Epoch 21 validation: Cross-entropy=0.5043989419937134, Accuracy=0.7545862197875977\n"
     ]
    },
    {
     "name": "stderr",
     "output_type": "stream",
     "text": [
      "Epoch 22: 100%|██████████| 2861/2861 [00:08<00:00, 330.85batch/s, acc=0, loss=1.57]   \n"
     ]
    },
    {
     "name": "stdout",
     "output_type": "stream",
     "text": [
      "Epoch 22 validation: Cross-entropy=0.5050083994865417, Accuracy=0.7554015517234802\n"
     ]
    },
    {
     "name": "stderr",
     "output_type": "stream",
     "text": [
      "Epoch 23: 100%|██████████| 2861/2861 [00:08<00:00, 343.34batch/s, acc=0, loss=1.51]   \n"
     ]
    },
    {
     "name": "stdout",
     "output_type": "stream",
     "text": [
      "Epoch 23 validation: Cross-entropy=0.5103542804718018, Accuracy=0.7574398517608643\n"
     ]
    },
    {
     "name": "stderr",
     "output_type": "stream",
     "text": [
      "Epoch 24: 100%|██████████| 2861/2861 [00:08<00:00, 341.23batch/s, acc=0, loss=1.51]   \n"
     ]
    },
    {
     "name": "stdout",
     "output_type": "stream",
     "text": [
      "Epoch 24 validation: Cross-entropy=0.507491409778595, Accuracy=0.7586628794670105\n"
     ]
    },
    {
     "name": "stderr",
     "output_type": "stream",
     "text": [
      "Epoch 25: 100%|██████████| 2861/2861 [00:08<00:00, 346.57batch/s, acc=0, loss=1.47]   \n"
     ]
    },
    {
     "name": "stdout",
     "output_type": "stream",
     "text": [
      "Epoch 25 validation: Cross-entropy=0.5129157900810242, Accuracy=0.7492865920066833\n"
     ]
    },
    {
     "name": "stderr",
     "output_type": "stream",
     "text": [
      "Epoch 26: 100%|██████████| 2861/2861 [00:08<00:00, 347.51batch/s, acc=0, loss=1.57]   \n"
     ]
    },
    {
     "name": "stdout",
     "output_type": "stream",
     "text": [
      "Epoch 26 validation: Cross-entropy=0.510424792766571, Accuracy=0.7525479197502136\n"
     ]
    },
    {
     "name": "stderr",
     "output_type": "stream",
     "text": [
      "Epoch 27: 100%|██████████| 2861/2861 [00:08<00:00, 337.90batch/s, acc=0, loss=1.56]   \n"
     ]
    },
    {
     "name": "stdout",
     "output_type": "stream",
     "text": [
      "Epoch 27 validation: Cross-entropy=0.5158628821372986, Accuracy=0.7501019239425659\n"
     ]
    },
    {
     "name": "stderr",
     "output_type": "stream",
     "text": [
      "Epoch 28: 100%|██████████| 2861/2861 [00:08<00:00, 330.29batch/s, acc=0, loss=1.56]   \n"
     ]
    },
    {
     "name": "stdout",
     "output_type": "stream",
     "text": [
      "Epoch 28 validation: Cross-entropy=0.5090541243553162, Accuracy=0.7505095601081848\n"
     ]
    },
    {
     "name": "stderr",
     "output_type": "stream",
     "text": [
      "Epoch 29: 100%|██████████| 2861/2861 [00:08<00:00, 342.04batch/s, acc=0, loss=1.57]   \n"
     ]
    },
    {
     "name": "stdout",
     "output_type": "stream",
     "text": [
      "Epoch 29 validation: Cross-entropy=0.5075992941856384, Accuracy=0.7496942281723022\n"
     ]
    },
    {
     "name": "stderr",
     "output_type": "stream",
     "text": [
      "Epoch 30: 100%|██████████| 2861/2861 [00:08<00:00, 345.09batch/s, acc=0, loss=1.5]    \n"
     ]
    },
    {
     "name": "stdout",
     "output_type": "stream",
     "text": [
      "Epoch 30 validation: Cross-entropy=0.5145922303199768, Accuracy=0.7480636239051819\n"
     ]
    },
    {
     "name": "stderr",
     "output_type": "stream",
     "text": [
      "Epoch 31: 100%|██████████| 2861/2861 [00:08<00:00, 340.24batch/s, acc=0, loss=1.52]   \n"
     ]
    },
    {
     "name": "stdout",
     "output_type": "stream",
     "text": [
      "Epoch 31 validation: Cross-entropy=0.5071420073509216, Accuracy=0.7513248920440674\n"
     ]
    },
    {
     "name": "stderr",
     "output_type": "stream",
     "text": [
      "Epoch 32: 100%|██████████| 2861/2861 [00:08<00:00, 347.14batch/s, acc=0, loss=1.36]   \n"
     ]
    },
    {
     "name": "stdout",
     "output_type": "stream",
     "text": [
      "Epoch 32 validation: Cross-entropy=0.5093958973884583, Accuracy=0.7484712600708008\n"
     ]
    },
    {
     "name": "stderr",
     "output_type": "stream",
     "text": [
      "Epoch 33: 100%|██████████| 2861/2861 [00:08<00:00, 338.22batch/s, acc=0, loss=1.36]   \n"
     ]
    },
    {
     "name": "stdout",
     "output_type": "stream",
     "text": [
      "Epoch 33 validation: Cross-entropy=0.5284200310707092, Accuracy=0.7496942281723022\n"
     ]
    },
    {
     "name": "stderr",
     "output_type": "stream",
     "text": [
      "Epoch 34: 100%|██████████| 2861/2861 [00:08<00:00, 345.54batch/s, acc=0, loss=1.55]   \n"
     ]
    },
    {
     "name": "stdout",
     "output_type": "stream",
     "text": [
      "Epoch 34 validation: Cross-entropy=0.5174993872642517, Accuracy=0.7501019239425659\n"
     ]
    },
    {
     "name": "stderr",
     "output_type": "stream",
     "text": [
      "Epoch 35: 100%|██████████| 2861/2861 [00:08<00:00, 343.12batch/s, acc=0, loss=1.44]   \n"
     ]
    },
    {
     "name": "stdout",
     "output_type": "stream",
     "text": [
      "Epoch 35 validation: Cross-entropy=0.5131289958953857, Accuracy=0.7505095601081848\n"
     ]
    },
    {
     "name": "stderr",
     "output_type": "stream",
     "text": [
      "Epoch 36: 100%|██████████| 2861/2861 [00:08<00:00, 332.21batch/s, acc=0, loss=1.51]   \n"
     ]
    },
    {
     "name": "stdout",
     "output_type": "stream",
     "text": [
      "Epoch 36 validation: Cross-entropy=0.5088214874267578, Accuracy=0.7488788962364197\n"
     ]
    },
    {
     "name": "stderr",
     "output_type": "stream",
     "text": [
      "Epoch 37: 100%|██████████| 2861/2861 [00:08<00:00, 343.31batch/s, acc=0, loss=1.49]   \n"
     ]
    },
    {
     "name": "stdout",
     "output_type": "stream",
     "text": [
      "Epoch 37 validation: Cross-entropy=0.5080505609512329, Accuracy=0.7492865920066833\n"
     ]
    },
    {
     "name": "stderr",
     "output_type": "stream",
     "text": [
      "Epoch 38: 100%|██████████| 2861/2861 [00:08<00:00, 339.67batch/s, acc=0, loss=1.47]   \n"
     ]
    },
    {
     "name": "stdout",
     "output_type": "stream",
     "text": [
      "Epoch 38 validation: Cross-entropy=0.5082418918609619, Accuracy=0.7480636239051819\n"
     ]
    },
    {
     "name": "stderr",
     "output_type": "stream",
     "text": [
      "Epoch 39: 100%|██████████| 2861/2861 [00:08<00:00, 346.00batch/s, acc=0, loss=1.51]   \n"
     ]
    },
    {
     "name": "stdout",
     "output_type": "stream",
     "text": [
      "Epoch 39 validation: Cross-entropy=0.5162036418914795, Accuracy=0.7480636239051819\n"
     ]
    },
    {
     "name": "stderr",
     "output_type": "stream",
     "text": [
      "Epoch 40: 100%|██████████| 2861/2861 [00:09<00:00, 317.66batch/s, acc=0, loss=1.43]   \n"
     ]
    },
    {
     "name": "stdout",
     "output_type": "stream",
     "text": [
      "Epoch 40 validation: Cross-entropy=0.507361114025116, Accuracy=0.7513248920440674\n"
     ]
    },
    {
     "name": "stderr",
     "output_type": "stream",
     "text": [
      "Epoch 41: 100%|██████████| 2861/2861 [00:10<00:00, 285.50batch/s, acc=0, loss=1.46]   \n"
     ]
    },
    {
     "name": "stdout",
     "output_type": "stream",
     "text": [
      "Epoch 41 validation: Cross-entropy=0.515834391117096, Accuracy=0.7505095601081848\n"
     ]
    },
    {
     "name": "stderr",
     "output_type": "stream",
     "text": [
      "Epoch 42: 100%|██████████| 2861/2861 [00:08<00:00, 326.24batch/s, acc=0, loss=1.46]   \n"
     ]
    },
    {
     "name": "stdout",
     "output_type": "stream",
     "text": [
      "Epoch 42 validation: Cross-entropy=0.5282191038131714, Accuracy=0.7468405961990356\n"
     ]
    },
    {
     "name": "stderr",
     "output_type": "stream",
     "text": [
      "Epoch 43: 100%|██████████| 2861/2861 [00:08<00:00, 343.48batch/s, acc=0, loss=1.46]   \n"
     ]
    },
    {
     "name": "stdout",
     "output_type": "stream",
     "text": [
      "Epoch 43 validation: Cross-entropy=0.505862832069397, Accuracy=0.7472482919692993\n"
     ]
    },
    {
     "name": "stderr",
     "output_type": "stream",
     "text": [
      "Epoch 44: 100%|██████████| 2861/2861 [00:08<00:00, 329.46batch/s, acc=0, loss=1.5]    \n"
     ]
    },
    {
     "name": "stdout",
     "output_type": "stream",
     "text": [
      "Epoch 44 validation: Cross-entropy=0.5060880780220032, Accuracy=0.7496942281723022\n"
     ]
    },
    {
     "data": {
      "text/plain": [
       "<All keys matched successfully>"
      ]
     },
     "execution_count": 84,
     "metadata": {},
     "output_type": "execute_result"
    }
   ],
   "source": [
    "import tqdm\n",
    "import copy\n",
    "\n",
    "\n",
    "batches_per_epoch = len(X_train) // batch_size\n",
    "\n",
    "best_acc = -np.inf  # init to negative infinity\n",
    "best_weights = None\n",
    "train_loss_hist = []\n",
    "train_acc_hist = []\n",
    "test_loss_hist = []\n",
    "test_acc_hist = []\n",
    "\n",
    "for epoch in range(n_epochs):\n",
    "    epoch_loss = []\n",
    "    epoch_acc = []\n",
    "    # set model in training mode and run through each batch\n",
    "    model.train()\n",
    "    with tqdm.trange(batches_per_epoch, unit=\"batch\", mininterval=0) as bar:\n",
    "        bar.set_description(f\"Epoch {epoch}\")\n",
    "        for i in bar:\n",
    "            # take a batch\n",
    "            start = i * batch_size\n",
    "            X_batch = X_train[start : start + batch_size]\n",
    "            y_batch = y_train[start : start + batch_size]\n",
    "            # forward pass\n",
    "            y_pred = model(X_batch)\n",
    "            loss = loss_fn(y_pred, y_batch)\n",
    "            # backward pass\n",
    "            optimizer.zero_grad()\n",
    "            loss.backward()\n",
    "            # update weights\n",
    "            optimizer.step()\n",
    "            # compute and store metrics\n",
    "            acc = (torch.argmax(y_pred, 1) == torch.argmax(y_batch, 1)).float().mean()\n",
    "            epoch_loss.append(float(loss))\n",
    "            epoch_acc.append(float(acc))\n",
    "            bar.set_postfix(loss=float(loss), acc=float(acc))\n",
    "    # set model in evaluation mode and run through the test set\n",
    "    model.eval()\n",
    "    y_pred = model(X_test)\n",
    "    ce = loss_fn(y_pred, y_test)\n",
    "    acc = (torch.argmax(y_pred, 1) == torch.argmax(y_test, 1)).float().mean()\n",
    "    ce = float(ce)\n",
    "    acc = float(acc)\n",
    "    train_loss_hist.append(np.mean(epoch_loss))\n",
    "    train_acc_hist.append(np.mean(epoch_acc))\n",
    "    test_loss_hist.append(ce)\n",
    "    test_acc_hist.append(acc)\n",
    "    if acc > best_acc:\n",
    "        best_acc = acc\n",
    "        best_weights = copy.deepcopy(model.state_dict())\n",
    "    print(f\"Epoch {epoch} validation: Cross-entropy={ce}, Accuracy={acc}\")\n",
    "\n",
    "model.load_state_dict(best_weights)"
   ]
  },
  {
   "cell_type": "code",
   "execution_count": 85,
   "metadata": {},
   "outputs": [
    {
     "data": {
      "text/plain": [
       "OrderedDict([('hidden1.weight',\n",
       "              tensor([[ 1.3007, -4.3365],\n",
       "                      [-3.2842,  2.1436],\n",
       "                      [ 1.4560,  0.6779],\n",
       "                      [ 0.0320,  1.3538],\n",
       "                      [-1.7310, -2.3730],\n",
       "                      [ 1.4431,  4.1241],\n",
       "                      [ 3.7681,  2.1180]])),\n",
       "             ('hidden1.bias',\n",
       "              tensor([-0.8926,  0.4598, -0.5777,  0.3020, -1.0205, -1.3819, -0.3864])),\n",
       "             ('hidden2.weight',\n",
       "              tensor([[-6.0513,  0.2992,  1.4625,  0.4259,  0.3914, -5.9317,  3.3772],\n",
       "                      [ 1.2643,  9.3866, -0.1497, -1.0325, -0.5696,  1.3023, -0.6901],\n",
       "                      [-0.4703, -0.8287, -0.6070,  0.5195, -1.0538,  0.0676, -0.9468],\n",
       "                      [ 2.0593, -3.4069,  0.8255, -0.0228, -7.2963,  5.4095,  2.0794],\n",
       "                      [-2.2661,  2.5600, -0.7474,  1.4239, -2.1599,  0.9613, -1.4848]])),\n",
       "             ('hidden2.bias',\n",
       "              tensor([-1.2752, -6.6612,  5.7833, -3.2547,  3.0075])),\n",
       "             ('output.weight',\n",
       "              tensor([[-1.5520, -2.8798, -2.3064,  4.4422,  0.6783],\n",
       "                      [-2.5471,  0.8582,  3.4571, -2.2198, -0.7694],\n",
       "                      [-3.2681,  1.6384, -3.7797,  2.1658,  1.6236],\n",
       "                      [ 3.7965, -4.9829,  1.2496, -3.8394, -3.0827]])),\n",
       "             ('output.bias', tensor([ 0.2930, -1.1745,  0.9895,  0.4357]))])"
      ]
     },
     "execution_count": 85,
     "metadata": {},
     "output_type": "execute_result"
    }
   ],
   "source": [
    "model.state_dict()"
   ]
  },
  {
   "cell_type": "markdown",
   "metadata": {},
   "source": [
    "## Plotting Cross entropy and accuracy"
   ]
  },
  {
   "cell_type": "code",
   "execution_count": 86,
   "metadata": {},
   "outputs": [
    {
     "data": {
      "image/png": "[encoded data removed]",
      "text/plain": [
       "<Figure size 640x480 with 1 Axes>"
      ]
     },
     "metadata": {},
     "output_type": "display_data"
    },
    {
     "data": {
      "image/png": "[encoded data removed]",
      "text/plain": [
       "<Figure size 640x480 with 1 Axes>"
      ]
     },
     "metadata": {},
     "output_type": "display_data"
    }
   ],
   "source": [
    "plt.plot(train_loss_hist, label=\"train\")\n",
    "plt.plot(test_loss_hist, label=\"test\")\n",
    "plt.xlabel(\"epochs\")\n",
    "plt.ylabel(\"cross entropy\")\n",
    "plt.legend()\n",
    "plt.show()\n",
    "\n",
    "plt.plot(train_acc_hist, label=\"train\")\n",
    "plt.plot(test_acc_hist, label=\"test\")\n",
    "plt.xlabel(\"epochs\")\n",
    "plt.ylabel(\"accuracy\")\n",
    "plt.legend()\n",
    "plt.savefig(filename)\n",
    "plt.show()"
   ]
  }
 ],
 "metadata": {
  "kernelspec": {
   "display_name": "Python 3",
   "language": "python",
   "name": "python3"
  },
  "language_info": {
   "codemirror_mode": {
    "name": "ipython",
    "version": 3
   },
   "file_extension": ".py",
   "mimetype": "text/x-python",
   "name": "python",
   "nbconvert_exporter": "python",
   "pygments_lexer": "ipython3",
   "version": "3.11.0"
  }
 },
 "nbformat": 4,
 "nbformat_minor": 2
}
