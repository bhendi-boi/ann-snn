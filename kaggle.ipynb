{
 "cells": [
  {
   "cell_type": "markdown",
   "metadata": {},
   "source": [
    "## Parameters"
   ]
  },
  {
   "cell_type": "code",
   "execution_count": 52,
   "metadata": {},
   "outputs": [],
   "source": [
    "import torch.nn as nn\n",
    "\n",
    "record_number = 223\n",
    "network_structure = [4, 8, 8, 5]\n",
    "n_epochs = 45\n",
    "batch_size = 100\n",
    "act1 = nn.Tanh()\n",
    "act2 = nn.Sigmoid()\n",
    "\n",
    "sampling_strategy = {1: 90083, 2: 10000, 3: 3500, 4: 1500, 5: 80}\n",
    "# filename = f'{act1}-{act2}-{network_structure}--{batch_size}{record_number}.png'\n",
    "full_path = \"full_data_set.png\""
   ]
  },
  {
   "cell_type": "markdown",
   "metadata": {},
   "source": [
    "## Importing Data"
   ]
  },
  {
   "cell_type": "code",
   "execution_count": 53,
   "metadata": {},
   "outputs": [],
   "source": [
    "import pandas as pd\n",
    "import numpy as np\n",
    "import matplotlib.pyplot as plt\n",
    "\n",
    "df = pd.read_csv(\"kaggle.csv\")"
   ]
  },
  {
   "cell_type": "code",
   "execution_count": 54,
   "metadata": {},
   "outputs": [],
   "source": [
    "df = df[[\"record\", \"type\", \"0_qrs_interval\", \"0_pre-RR\", \"0_post-RR\", \"0_qt_interval\", \"0_st_interval\"]]\n",
    "df.dropna(inplace=True)"
   ]
  },
  {
   "cell_type": "markdown",
   "metadata": {},
   "source": [
    "## Making outputs"
   ]
  },
  {
   "cell_type": "code",
   "execution_count": 55,
   "metadata": {},
   "outputs": [],
   "source": [
    "df[\"type\"] = df[\"type\"].map({\"N\": 1, \"VEB\": 2, \"SVEB\": 3, \"F\": 4, \"Q\":5})"
   ]
  },
  {
   "cell_type": "markdown",
   "metadata": {},
   "source": [
    "## Making x, y"
   ]
  },
  {
   "cell_type": "code",
   "execution_count": 56,
   "metadata": {},
   "outputs": [],
   "source": [
    "X = df[[\"0_pre-RR\", \"0_qrs_interval\", \"0_qt_interval\", \"0_st_interval\"]]\n",
    "y = df[\"type\"]"
   ]
  },
  {
   "cell_type": "code",
   "execution_count": 57,
   "metadata": {},
   "outputs": [],
   "source": [
    "from imblearn.over_sampling import SMOTE\n",
    "\n",
    "sm = SMOTE(random_state=0, sampling_strategy=sampling_strategy)\n",
    "X, y = sm.fit_resample(X=X, y=y)"
   ]
  },
  {
   "cell_type": "code",
   "execution_count": 58,
   "metadata": {},
   "outputs": [],
   "source": [
    "X = (X - X.mean()) / X.std()\n",
    "y = y.map(\n",
    "    {1: [1, 0, 0, 0, 0], 2: [0, 1, 0, 0, 0], 3: [0, 0, 1, 0, 0], 4: [0, 0, 0, 1, 0] , 5: [0, 0, 0, 0, 1]}\n",
    ")\n",
    "y = np.array(y.tolist())"
   ]
  },
  {
   "cell_type": "code",
   "execution_count": 59,
   "metadata": {},
   "outputs": [],
   "source": [
    "y = np.array(y.tolist())"
   ]
  },
  {
   "cell_type": "markdown",
   "metadata": {},
   "source": [
    "## Splitting data for training and testing"
   ]
  },
  {
   "cell_type": "code",
   "execution_count": 60,
   "metadata": {},
   "outputs": [],
   "source": [
    "from sklearn.model_selection import train_test_split\n",
    "import torch\n",
    "\n",
    "X = torch.from_numpy(X.values).float()\n",
    "y = torch.from_numpy(y).float()\n",
    "\n",
    "X_train, X_test, y_train, y_test = train_test_split(\n",
    "    X, y, train_size=0.7, random_state=1\n",
    ")"
   ]
  },
  {
   "cell_type": "markdown",
   "metadata": {},
   "source": [
    "## Arrhythmia Classifier"
   ]
  },
  {
   "cell_type": "code",
   "execution_count": 61,
   "metadata": {},
   "outputs": [
    {
     "data": {
      "text/plain": [
       "Arrhythmia_classifier(\n",
       "  (hidden1): Linear(in_features=4, out_features=8, bias=True)\n",
       "  (act1): Tanh()\n",
       "  (hidden2): Linear(in_features=8, out_features=8, bias=True)\n",
       "  (act2): Sigmoid()\n",
       "  (output): Linear(in_features=8, out_features=5, bias=True)\n",
       ")"
      ]
     },
     "execution_count": 61,
     "metadata": {},
     "output_type": "execute_result"
    }
   ],
   "source": [
    "class Arrhythmia_classifier(nn.Module):\n",
    "    def __init__(self):\n",
    "        super().__init__()\n",
    "        self.hidden1 = nn.Linear(network_structure[0], network_structure[1])\n",
    "        self.act1 = act1\n",
    "        self.hidden2 = nn.Linear(network_structure[1],network_structure[2])\n",
    "        self.act2 = act2\n",
    "        self.output = nn.Linear(network_structure[2], network_structure[3])\n",
    "\n",
    "    def forward(self, x):\n",
    "        x = self.act1(self.hidden1(x))\n",
    "        x = self.act2(self.hidden2(x))\n",
    "        x = self.output(x)\n",
    "        return x\n",
    "\n",
    "\n",
    "model = Arrhythmia_classifier()\n",
    "model"
   ]
  },
  {
   "cell_type": "code",
   "execution_count": 62,
   "metadata": {},
   "outputs": [],
   "source": [
    "import torch.optim as optim\n",
    "import numpy as np\n",
    "import random\n",
    "\n",
    "loss_fn = nn.CrossEntropyLoss()\n",
    "optimizer = optim.Adam(model.parameters(), lr=0.01)\n",
    "random.seed(10)"
   ]
  },
  {
   "cell_type": "code",
   "execution_count": 63,
   "metadata": {},
   "outputs": [
    {
     "name": "stderr",
     "output_type": "stream",
     "text": [
      "Epoch 0: 100%|██████████| 736/736 [00:02<00:00, 261.91batch/s, acc=0.91, loss=0.315]\n"
     ]
    },
    {
     "name": "stdout",
     "output_type": "stream",
     "text": [
      "Epoch 0 validation: Cross-entropy=0.3190964460372925, Accuracy=0.9128022789955139\n"
     ]
    },
    {
     "name": "stderr",
     "output_type": "stream",
     "text": [
      "Epoch 1: 100%|██████████| 736/736 [00:03<00:00, 239.62batch/s, acc=0.91, loss=0.281] \n"
     ]
    },
    {
     "name": "stdout",
     "output_type": "stream",
     "text": [
      "Epoch 1 validation: Cross-entropy=0.30242565274238586, Accuracy=0.9136897921562195\n"
     ]
    },
    {
     "name": "stderr",
     "output_type": "stream",
     "text": [
      "Epoch 2: 100%|██████████| 736/736 [00:03<00:00, 234.54batch/s, acc=0.91, loss=0.269] \n"
     ]
    },
    {
     "name": "stdout",
     "output_type": "stream",
     "text": [
      "Epoch 2 validation: Cross-entropy=0.2884907126426697, Accuracy=0.9146090149879456\n"
     ]
    },
    {
     "name": "stderr",
     "output_type": "stream",
     "text": [
      "Epoch 3: 100%|██████████| 736/736 [00:02<00:00, 250.98batch/s, acc=0.91, loss=0.256] \n"
     ]
    },
    {
     "name": "stdout",
     "output_type": "stream",
     "text": [
      "Epoch 3 validation: Cross-entropy=0.2760032117366791, Accuracy=0.9148942828178406\n"
     ]
    },
    {
     "name": "stderr",
     "output_type": "stream",
     "text": [
      "Epoch 4: 100%|██████████| 736/736 [00:02<00:00, 256.33batch/s, acc=0.91, loss=0.247] \n"
     ]
    },
    {
     "name": "stdout",
     "output_type": "stream",
     "text": [
      "Epoch 4 validation: Cross-entropy=0.2688741087913513, Accuracy=0.9162889719009399\n"
     ]
    },
    {
     "name": "stderr",
     "output_type": "stream",
     "text": [
      "Epoch 5: 100%|██████████| 736/736 [00:02<00:00, 268.04batch/s, acc=0.9, loss=0.237]  \n"
     ]
    },
    {
     "name": "stdout",
     "output_type": "stream",
     "text": [
      "Epoch 5 validation: Cross-entropy=0.2644781768321991, Accuracy=0.9160987734794617\n"
     ]
    },
    {
     "name": "stderr",
     "output_type": "stream",
     "text": [
      "Epoch 6: 100%|██████████| 736/736 [00:02<00:00, 262.70batch/s, acc=0.9, loss=0.229]  \n"
     ]
    },
    {
     "name": "stdout",
     "output_type": "stream",
     "text": [
      "Epoch 6 validation: Cross-entropy=0.26165369153022766, Accuracy=0.9158135056495667\n"
     ]
    },
    {
     "name": "stderr",
     "output_type": "stream",
     "text": [
      "Epoch 7: 100%|██████████| 736/736 [00:02<00:00, 272.14batch/s, acc=0.9, loss=0.225] \n"
     ]
    },
    {
     "name": "stdout",
     "output_type": "stream",
     "text": [
      "Epoch 7 validation: Cross-entropy=0.25964486598968506, Accuracy=0.9164157509803772\n"
     ]
    },
    {
     "name": "stderr",
     "output_type": "stream",
     "text": [
      "Epoch 8: 100%|██████████| 736/736 [00:02<00:00, 259.46batch/s, acc=0.91, loss=0.224] \n"
     ]
    },
    {
     "name": "stdout",
     "output_type": "stream",
     "text": [
      "Epoch 8 validation: Cross-entropy=0.2581908106803894, Accuracy=0.9175885319709778\n"
     ]
    },
    {
     "name": "stderr",
     "output_type": "stream",
     "text": [
      "Epoch 9: 100%|██████████| 736/736 [00:02<00:00, 291.06batch/s, acc=0.91, loss=0.225] \n"
     ]
    },
    {
     "name": "stdout",
     "output_type": "stream",
     "text": [
      "Epoch 9 validation: Cross-entropy=0.25716307759284973, Accuracy=0.9179688692092896\n"
     ]
    },
    {
     "name": "stderr",
     "output_type": "stream",
     "text": [
      "Epoch 10: 100%|██████████| 736/736 [00:02<00:00, 284.81batch/s, acc=0.91, loss=0.227] \n"
     ]
    },
    {
     "name": "stdout",
     "output_type": "stream",
     "text": [
      "Epoch 10 validation: Cross-entropy=0.25640562176704407, Accuracy=0.9183809161186218\n"
     ]
    },
    {
     "name": "stderr",
     "output_type": "stream",
     "text": [
      "Epoch 11: 100%|██████████| 736/736 [00:02<00:00, 287.15batch/s, acc=0.91, loss=0.228] \n"
     ]
    },
    {
     "name": "stdout",
     "output_type": "stream",
     "text": [
      "Epoch 11 validation: Cross-entropy=0.2558386027812958, Accuracy=0.9181590676307678\n"
     ]
    },
    {
     "name": "stderr",
     "output_type": "stream",
     "text": [
      "Epoch 12: 100%|██████████| 736/736 [00:02<00:00, 263.84batch/s, acc=0.91, loss=0.23]  \n"
     ]
    },
    {
     "name": "stdout",
     "output_type": "stream",
     "text": [
      "Epoch 12 validation: Cross-entropy=0.25540775060653687, Accuracy=0.9180005788803101\n"
     ]
    },
    {
     "name": "stderr",
     "output_type": "stream",
     "text": [
      "Epoch 13: 100%|██████████| 736/736 [00:02<00:00, 267.68batch/s, acc=0.91, loss=0.231] \n"
     ]
    },
    {
     "name": "stdout",
     "output_type": "stream",
     "text": [
      "Epoch 13 validation: Cross-entropy=0.25507429242134094, Accuracy=0.9179055094718933\n"
     ]
    },
    {
     "name": "stderr",
     "output_type": "stream",
     "text": [
      "Epoch 14: 100%|██████████| 736/736 [00:02<00:00, 267.19batch/s, acc=0.91, loss=0.231] \n"
     ]
    },
    {
     "name": "stdout",
     "output_type": "stream",
     "text": [
      "Epoch 14 validation: Cross-entropy=0.2548113465309143, Accuracy=0.9180322885513306\n"
     ]
    },
    {
     "name": "stderr",
     "output_type": "stream",
     "text": [
      "Epoch 15: 100%|██████████| 736/736 [00:02<00:00, 272.37batch/s, acc=0.91, loss=0.232] \n"
     ]
    },
    {
     "name": "stdout",
     "output_type": "stream",
     "text": [
      "Epoch 15 validation: Cross-entropy=0.25459834933280945, Accuracy=0.9182541370391846\n"
     ]
    },
    {
     "name": "stderr",
     "output_type": "stream",
     "text": [
      "Epoch 16: 100%|██████████| 736/736 [00:02<00:00, 257.27batch/s, acc=0.91, loss=0.232] \n"
     ]
    },
    {
     "name": "stdout",
     "output_type": "stream",
     "text": [
      "Epoch 16 validation: Cross-entropy=0.2544192969799042, Accuracy=0.9180956482887268\n"
     ]
    },
    {
     "name": "stderr",
     "output_type": "stream",
     "text": [
      "Epoch 17: 100%|██████████| 736/736 [00:02<00:00, 273.52batch/s, acc=0.91, loss=0.232] \n"
     ]
    },
    {
     "name": "stdout",
     "output_type": "stream",
     "text": [
      "Epoch 17 validation: Cross-entropy=0.2542620003223419, Accuracy=0.9183175563812256\n"
     ]
    },
    {
     "name": "stderr",
     "output_type": "stream",
     "text": [
      "Epoch 18: 100%|██████████| 736/736 [00:02<00:00, 272.07batch/s, acc=0.91, loss=0.232] \n"
     ]
    },
    {
     "name": "stdout",
     "output_type": "stream",
     "text": [
      "Epoch 18 validation: Cross-entropy=0.25411805510520935, Accuracy=0.9182224273681641\n"
     ]
    },
    {
     "name": "stderr",
     "output_type": "stream",
     "text": [
      "Epoch 19: 100%|██████████| 736/736 [00:02<00:00, 270.71batch/s, acc=0.91, loss=0.231] \n"
     ]
    },
    {
     "name": "stdout",
     "output_type": "stream",
     "text": [
      "Epoch 19 validation: Cross-entropy=0.25398334860801697, Accuracy=0.9184443354606628\n"
     ]
    },
    {
     "name": "stderr",
     "output_type": "stream",
     "text": [
      "Epoch 20: 100%|██████████| 736/736 [00:02<00:00, 248.04batch/s, acc=0.91, loss=0.231] \n"
     ]
    },
    {
     "name": "stdout",
     "output_type": "stream",
     "text": [
      "Epoch 20 validation: Cross-entropy=0.25385773181915283, Accuracy=0.9182224273681641\n"
     ]
    },
    {
     "name": "stderr",
     "output_type": "stream",
     "text": [
      "Epoch 21: 100%|██████████| 736/736 [00:02<00:00, 252.91batch/s, acc=0.91, loss=0.23]  \n"
     ]
    },
    {
     "name": "stdout",
     "output_type": "stream",
     "text": [
      "Epoch 21 validation: Cross-entropy=0.2537425458431244, Accuracy=0.917937159538269\n"
     ]
    },
    {
     "name": "stderr",
     "output_type": "stream",
     "text": [
      "Epoch 22: 100%|██████████| 736/736 [00:02<00:00, 298.44batch/s, acc=0.91, loss=0.23]  \n"
     ]
    },
    {
     "name": "stdout",
     "output_type": "stream",
     "text": [
      "Epoch 22 validation: Cross-entropy=0.2536366283893585, Accuracy=0.9178420901298523\n"
     ]
    },
    {
     "name": "stderr",
     "output_type": "stream",
     "text": [
      "Epoch 23: 100%|██████████| 736/736 [00:02<00:00, 261.56batch/s, acc=0.91, loss=0.229] \n"
     ]
    },
    {
     "name": "stdout",
     "output_type": "stream",
     "text": [
      "Epoch 23 validation: Cross-entropy=0.25353777408599854, Accuracy=0.9176836013793945\n"
     ]
    },
    {
     "name": "stderr",
     "output_type": "stream",
     "text": [
      "Epoch 24: 100%|██████████| 736/736 [00:02<00:00, 268.93batch/s, acc=0.91, loss=0.228] \n"
     ]
    },
    {
     "name": "stdout",
     "output_type": "stream",
     "text": [
      "Epoch 24 validation: Cross-entropy=0.2534446716308594, Accuracy=0.9173983335494995\n"
     ]
    },
    {
     "name": "stderr",
     "output_type": "stream",
     "text": [
      "Epoch 25: 100%|██████████| 736/736 [00:02<00:00, 301.19batch/s, acc=0.91, loss=0.227] \n"
     ]
    },
    {
     "name": "stdout",
     "output_type": "stream",
     "text": [
      "Epoch 25 validation: Cross-entropy=0.25335538387298584, Accuracy=0.9173349142074585\n"
     ]
    },
    {
     "name": "stderr",
     "output_type": "stream",
     "text": [
      "Epoch 26: 100%|██████████| 736/736 [00:02<00:00, 315.96batch/s, acc=0.91, loss=0.227] \n"
     ]
    },
    {
     "name": "stdout",
     "output_type": "stream",
     "text": [
      "Epoch 26 validation: Cross-entropy=0.25326696038246155, Accuracy=0.9172081351280212\n"
     ]
    },
    {
     "name": "stderr",
     "output_type": "stream",
     "text": [
      "Epoch 27: 100%|██████████| 736/736 [00:02<00:00, 315.83batch/s, acc=0.91, loss=0.226] \n"
     ]
    },
    {
     "name": "stdout",
     "output_type": "stream",
     "text": [
      "Epoch 27 validation: Cross-entropy=0.25317680835723877, Accuracy=0.9169545769691467\n"
     ]
    },
    {
     "name": "stderr",
     "output_type": "stream",
     "text": [
      "Epoch 28: 100%|██████████| 736/736 [00:02<00:00, 294.44batch/s, acc=0.91, loss=0.226] \n"
     ]
    },
    {
     "name": "stdout",
     "output_type": "stream",
     "text": [
      "Epoch 28 validation: Cross-entropy=0.2530842125415802, Accuracy=0.9171130657196045\n"
     ]
    },
    {
     "name": "stderr",
     "output_type": "stream",
     "text": [
      "Epoch 29: 100%|██████████| 736/736 [00:02<00:00, 280.85batch/s, acc=0.91, loss=0.225] \n"
     ]
    },
    {
     "name": "stdout",
     "output_type": "stream",
     "text": [
      "Epoch 29 validation: Cross-entropy=0.2529899775981903, Accuracy=0.917081356048584\n"
     ]
    },
    {
     "name": "stderr",
     "output_type": "stream",
     "text": [
      "Epoch 30: 100%|██████████| 736/736 [00:02<00:00, 291.21batch/s, acc=0.91, loss=0.225] \n"
     ]
    },
    {
     "name": "stdout",
     "output_type": "stream",
     "text": [
      "Epoch 30 validation: Cross-entropy=0.25289520621299744, Accuracy=0.917081356048584\n"
     ]
    },
    {
     "name": "stderr",
     "output_type": "stream",
     "text": [
      "Epoch 31: 100%|██████████| 736/736 [00:02<00:00, 287.48batch/s, acc=0.9, loss=0.224]  \n"
     ]
    },
    {
     "name": "stdout",
     "output_type": "stream",
     "text": [
      "Epoch 31 validation: Cross-entropy=0.25280046463012695, Accuracy=0.9171764850616455\n"
     ]
    },
    {
     "name": "stderr",
     "output_type": "stream",
     "text": [
      "Epoch 32: 100%|██████████| 736/736 [00:02<00:00, 285.19batch/s, acc=0.9, loss=0.224]  \n"
     ]
    },
    {
     "name": "stdout",
     "output_type": "stream",
     "text": [
      "Epoch 32 validation: Cross-entropy=0.25270572304725647, Accuracy=0.9172715544700623\n"
     ]
    },
    {
     "name": "stderr",
     "output_type": "stream",
     "text": [
      "Epoch 33: 100%|██████████| 736/736 [00:02<00:00, 276.96batch/s, acc=0.9, loss=0.224]  \n"
     ]
    },
    {
     "name": "stdout",
     "output_type": "stream",
     "text": [
      "Epoch 33 validation: Cross-entropy=0.25261062383651733, Accuracy=0.9172398447990417\n"
     ]
    },
    {
     "name": "stderr",
     "output_type": "stream",
     "text": [
      "Epoch 34: 100%|██████████| 736/736 [00:02<00:00, 290.37batch/s, acc=0.91, loss=0.224] \n"
     ]
    },
    {
     "name": "stdout",
     "output_type": "stream",
     "text": [
      "Epoch 34 validation: Cross-entropy=0.2525143623352051, Accuracy=0.9173032641410828\n"
     ]
    },
    {
     "name": "stderr",
     "output_type": "stream",
     "text": [
      "Epoch 35: 100%|██████████| 736/736 [00:02<00:00, 276.18batch/s, acc=0.91, loss=0.223] \n"
     ]
    },
    {
     "name": "stdout",
     "output_type": "stream",
     "text": [
      "Epoch 35 validation: Cross-entropy=0.2524159848690033, Accuracy=0.9173983335494995\n"
     ]
    },
    {
     "name": "stderr",
     "output_type": "stream",
     "text": [
      "Epoch 36: 100%|██████████| 736/736 [00:02<00:00, 308.71batch/s, acc=0.91, loss=0.223] \n"
     ]
    },
    {
     "name": "stdout",
     "output_type": "stream",
     "text": [
      "Epoch 36 validation: Cross-entropy=0.2523142993450165, Accuracy=0.9176201820373535\n"
     ]
    },
    {
     "name": "stderr",
     "output_type": "stream",
     "text": [
      "Epoch 37: 100%|██████████| 736/736 [00:02<00:00, 314.63batch/s, acc=0.91, loss=0.223] \n"
     ]
    },
    {
     "name": "stdout",
     "output_type": "stream",
     "text": [
      "Epoch 37 validation: Cross-entropy=0.2522077262401581, Accuracy=0.9177786707878113\n"
     ]
    },
    {
     "name": "stderr",
     "output_type": "stream",
     "text": [
      "Epoch 38: 100%|██████████| 736/736 [00:02<00:00, 314.18batch/s, acc=0.91, loss=0.223] \n"
     ]
    },
    {
     "name": "stdout",
     "output_type": "stream",
     "text": [
      "Epoch 38 validation: Cross-entropy=0.25209468603134155, Accuracy=0.9179055094718933\n"
     ]
    },
    {
     "name": "stderr",
     "output_type": "stream",
     "text": [
      "Epoch 39: 100%|██████████| 736/736 [00:02<00:00, 311.28batch/s, acc=0.91, loss=0.222] \n"
     ]
    },
    {
     "name": "stdout",
     "output_type": "stream",
     "text": [
      "Epoch 39 validation: Cross-entropy=0.2519744038581848, Accuracy=0.9178737998008728\n"
     ]
    },
    {
     "name": "stderr",
     "output_type": "stream",
     "text": [
      "Epoch 40: 100%|██████████| 736/736 [00:02<00:00, 318.94batch/s, acc=0.91, loss=0.222] \n"
     ]
    },
    {
     "name": "stdout",
     "output_type": "stream",
     "text": [
      "Epoch 40 validation: Cross-entropy=0.25184905529022217, Accuracy=0.9178737998008728\n"
     ]
    },
    {
     "name": "stderr",
     "output_type": "stream",
     "text": [
      "Epoch 41: 100%|██████████| 736/736 [00:02<00:00, 311.60batch/s, acc=0.91, loss=0.222] \n"
     ]
    },
    {
     "name": "stdout",
     "output_type": "stream",
     "text": [
      "Epoch 41 validation: Cross-entropy=0.2517243027687073, Accuracy=0.9178737998008728\n"
     ]
    },
    {
     "name": "stderr",
     "output_type": "stream",
     "text": [
      "Epoch 42: 100%|██████████| 736/736 [00:02<00:00, 325.29batch/s, acc=0.91, loss=0.221] \n"
     ]
    },
    {
     "name": "stdout",
     "output_type": "stream",
     "text": [
      "Epoch 42 validation: Cross-entropy=0.2516063451766968, Accuracy=0.9179055094718933\n"
     ]
    },
    {
     "name": "stderr",
     "output_type": "stream",
     "text": [
      "Epoch 43: 100%|██████████| 736/736 [00:02<00:00, 313.91batch/s, acc=0.91, loss=0.221] \n"
     ]
    },
    {
     "name": "stdout",
     "output_type": "stream",
     "text": [
      "Epoch 43 validation: Cross-entropy=0.2514979839324951, Accuracy=0.9180956482887268\n"
     ]
    },
    {
     "name": "stderr",
     "output_type": "stream",
     "text": [
      "Epoch 44: 100%|██████████| 736/736 [00:02<00:00, 343.35batch/s, acc=0.91, loss=0.221] \n"
     ]
    },
    {
     "name": "stdout",
     "output_type": "stream",
     "text": [
      "Epoch 44 validation: Cross-entropy=0.2513985335826874, Accuracy=0.917937159538269\n"
     ]
    },
    {
     "data": {
      "text/plain": [
       "<All keys matched successfully>"
      ]
     },
     "execution_count": 63,
     "metadata": {},
     "output_type": "execute_result"
    }
   ],
   "source": [
    "import tqdm\n",
    "import copy\n",
    "\n",
    "\n",
    "batches_per_epoch = len(X_train) // batch_size\n",
    "\n",
    "best_acc = -np.inf  # init to negative infinity\n",
    "best_weights = None\n",
    "train_loss_hist = []\n",
    "train_acc_hist = []\n",
    "test_loss_hist = []\n",
    "test_acc_hist = []\n",
    "\n",
    "for epoch in range(n_epochs):\n",
    "    epoch_loss = []\n",
    "    epoch_acc = []\n",
    "    # set model in training mode and run through each batch\n",
    "    model.train()\n",
    "    with tqdm.trange(batches_per_epoch, unit=\"batch\", mininterval=0) as bar:\n",
    "        bar.set_description(f\"Epoch {epoch}\")\n",
    "        for i in bar:\n",
    "            # take a batch\n",
    "            start = i * batch_size\n",
    "            X_batch = X_train[start : start + batch_size]\n",
    "            y_batch = y_train[start : start + batch_size]\n",
    "            # forward pass\n",
    "            y_pred = model(X_batch)\n",
    "            loss = loss_fn(y_pred, y_batch)\n",
    "            # backward pass\n",
    "            optimizer.zero_grad()\n",
    "            loss.backward()\n",
    "            # update weights\n",
    "            optimizer.step()\n",
    "            # compute and store metrics\n",
    "            acc = (torch.argmax(y_pred, 1) == torch.argmax(y_batch, 1)).float().mean()\n",
    "            epoch_loss.append(float(loss))\n",
    "            epoch_acc.append(float(acc))\n",
    "            bar.set_postfix(loss=float(loss), acc=float(acc))\n",
    "    # set model in evaluation mode and run through the test set\n",
    "    model.eval()\n",
    "    y_pred = model(X_test)\n",
    "    ce = loss_fn(y_pred, y_test)\n",
    "    acc = (torch.argmax(y_pred, 1) == torch.argmax(y_test, 1)).float().mean()\n",
    "    ce = float(ce)\n",
    "    acc = float(acc)\n",
    "    train_loss_hist.append(np.mean(epoch_loss))\n",
    "    train_acc_hist.append(np.mean(epoch_acc))\n",
    "    test_loss_hist.append(ce)\n",
    "    test_acc_hist.append(acc)\n",
    "    if acc > best_acc:\n",
    "        best_acc = acc\n",
    "        best_weights = copy.deepcopy(model.state_dict())\n",
    "    print(f\"Epoch {epoch} validation: Cross-entropy={ce}, Accuracy={acc}\")\n",
    "\n",
    "model.load_state_dict(best_weights)"
   ]
  },
  {
   "cell_type": "code",
   "execution_count": 64,
   "metadata": {},
   "outputs": [
    {
     "data": {
      "text/plain": [
       "OrderedDict([('hidden1.weight',\n",
       "              tensor([[-3.9888e-01,  1.9422e+00, -1.4536e+00,  1.8833e+00],\n",
       "                      [-5.1055e-01,  2.3326e+00, -2.1088e+00,  5.7644e+00],\n",
       "                      [ 1.2513e+00,  1.2435e-01, -2.6063e+00, -2.9950e+00],\n",
       "                      [ 2.4802e+00, -9.0792e-01,  7.9716e-01, -9.1109e-01],\n",
       "                      [ 1.1986e-03,  9.1288e-01, -1.1135e-01, -5.0038e-01],\n",
       "                      [ 3.0012e+00, -1.1357e+00,  2.4785e+00, -1.5200e-01],\n",
       "                      [-3.9140e+00, -1.2170e+00,  4.0562e-01,  8.2328e-01],\n",
       "                      [-7.1169e-01, -1.5427e+00,  2.1489e+00,  3.5949e+00]])),\n",
       "             ('hidden1.bias',\n",
       "              tensor([ 0.0196,  1.0285, -3.4547,  2.8338, -1.5643,  0.3940, -1.6041, -0.1128])),\n",
       "             ('hidden2.weight',\n",
       "              tensor([[ 1.9835e+00, -1.6620e+00,  3.9944e-02,  2.9595e+00,  3.3600e+00,\n",
       "                        6.0398e+00, -8.3835e-01, -2.4459e+00],\n",
       "                      [ 9.3697e-05,  8.6017e-01, -4.4554e+00,  3.0265e+00, -3.5362e-02,\n",
       "                        2.5112e+00,  4.1217e-01,  1.4824e+00],\n",
       "                      [ 1.2782e+00, -8.6465e-01,  1.0697e+00,  2.3997e+00, -1.4495e+00,\n",
       "                       -5.2793e-02, -3.4672e+00,  3.1342e+00],\n",
       "                      [ 1.8618e-01, -3.2777e+00,  1.1070e+00, -2.9070e+00, -1.5060e+00,\n",
       "                       -4.6920e+00,  2.6237e+00, -2.5442e+00],\n",
       "                      [ 2.6757e+00, -1.1130e+00,  2.0952e+00,  1.2933e+00, -4.8924e+00,\n",
       "                       -7.2528e-01, -9.5494e-01, -1.2281e+00],\n",
       "                      [ 3.4732e-01, -2.8150e-01,  4.0882e+00,  5.5130e-01,  5.8861e-01,\n",
       "                        4.9265e+00,  1.7315e+00, -1.7455e+00],\n",
       "                      [-3.7703e+00,  3.4366e+00,  9.7015e-01,  1.5398e+00,  2.2295e+00,\n",
       "                       -1.4427e+00, -7.9395e-01,  1.2729e+00],\n",
       "                      [ 3.3829e+00,  9.1986e-01,  2.3683e+00,  5.0741e+00, -1.5371e+00,\n",
       "                        1.3551e+00, -2.1875e+00, -1.0142e+00]])),\n",
       "             ('hidden2.bias',\n",
       "              tensor([-1.0514,  0.5105, -0.9268, -2.1983, -0.7775,  0.0769, -0.0168,  1.2665])),\n",
       "             ('output.weight',\n",
       "              tensor([[ 0.5124, -0.1185,  1.0611,  1.0248, -0.0662,  1.1273, -1.1406,  1.6161],\n",
       "                      [-0.2402,  1.9902, -1.7561, -0.8344, -2.6237,  3.0373,  2.0627, -2.5859],\n",
       "                      [-1.6817, -2.8638,  1.4692,  0.7707,  0.8971, -4.3112,  3.0025, -1.4412],\n",
       "                      [-1.5008,  2.6047, -4.8816, -3.2098,  2.8849, -1.5512, -5.7948,  1.3145],\n",
       "                      [ 1.7636, -0.5712, -0.0303,  0.3769, -2.1357, -0.7199,  0.3443, -0.6719]])),\n",
       "             ('output.bias',\n",
       "              tensor([ 0.4118,  1.6963,  0.1374, -1.9714, -1.9910]))])"
      ]
     },
     "execution_count": 64,
     "metadata": {},
     "output_type": "execute_result"
    }
   ],
   "source": [
    "model.state_dict()"
   ]
  },
  {
   "cell_type": "markdown",
   "metadata": {},
   "source": [
    "## Plotting Cross entropy and accuracy"
   ]
  },
  {
   "cell_type": "code",
   "execution_count": 66,
   "metadata": {},
   "outputs": [
    {
     "data": {
      "image/png": "[encoded data removed]",
      "text/plain": [
       "<Figure size 640x480 with 1 Axes>"
      ]
     },
     "metadata": {},
     "output_type": "display_data"
    },
    {
     "data": {
      "image/png": "[encoded data removed]",
      "text/plain": [
       "<Figure size 640x480 with 1 Axes>"
      ]
     },
     "metadata": {},
     "output_type": "display_data"
    }
   ],
   "source": [
    "plt.plot(train_loss_hist, label=\"train\")\n",
    "plt.plot(test_loss_hist, label=\"test\")\n",
    "plt.xlabel(\"epochs\")\n",
    "plt.ylabel(\"cross entropy\")\n",
    "plt.legend()\n",
    "plt.savefig(\"full_data_set_loss.png\")\n",
    "plt.show()\n",
    "\n",
    "plt.plot(train_acc_hist, label=\"train\")\n",
    "plt.plot(test_acc_hist, label=\"test\")\n",
    "plt.xlabel(\"epochs\")\n",
    "plt.ylabel(\"accuracy\")\n",
    "plt.legend()\n",
    "plt.savefig(full_path)\n",
    "plt.show()"
   ]
  }
 ],
 "metadata": {
  "kernelspec": {
   "display_name": "Python 3",
   "language": "python",
   "name": "python3"
  },
  "language_info": {
   "codemirror_mode": {
    "name": "ipython",
    "version": 3
   },
   "file_extension": ".py",
   "mimetype": "text/x-python",
   "name": "python",
   "nbconvert_exporter": "python",
   "pygments_lexer": "ipython3",
   "version": "3.11.0"
  }
 },
 "nbformat": 4,
 "nbformat_minor": 2
}
